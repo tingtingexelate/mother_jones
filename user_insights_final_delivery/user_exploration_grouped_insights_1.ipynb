{
 "cells": [
  {
   "cell_type": "markdown",
   "metadata": {},
   "source": [
    "# User Exploration - Grouped Insights 1\n",
    "\n",
    "#### This notebook deep dive into donors, subscribers and newsletter click data to derive thorough insights of user behaviors\n",
    "\n",
    "#### before proceed, make sure:\n",
    "- run the separate data_preprocessing.ipynb to generate needed files and save them in '../data/':\n",
    "- email_clean_2017_18.csv\n",
    "- MJM_datakind_filtered.csv\n",
    "- DON_datakind_filtered.csv\n",
    "- SDN_datakind_filtered.csv"
   ]
  },
  {
   "cell_type": "markdown",
   "metadata": {},
   "source": [
    "# 1. Set up environment"
   ]
  },
  {
   "cell_type": "markdown",
   "metadata": {},
   "source": [
    "### 1.1 load python packages, custom-defined functions and set up environment"
   ]
  },
  {
   "cell_type": "code",
   "execution_count": null,
   "metadata": {},
   "outputs": [],
   "source": [
    "# load all the packages\n",
    "import pandas as pd\n",
    "import os\n",
    "import urllib.parse\n",
    "from ua_parser import user_agent_parser\n",
    "import numpy as np\n",
    "import datetime\n",
    "from IPython.display import display\n",
    "from subscription_donation_preprocess_functions import *\n",
    "from MojoNewsletterClicksParser import *\n",
    "from user_exploration_functions import *\n",
    "import matplotlib.pyplot as plt\n",
    "from textwrap import wrap\n",
    "import itertools\n",
    "import re\n",
    "from time import strptime\n",
    "import seaborn as sns\n",
    "sns.set()\n",
    "\n",
    "\n",
    "from IPython.core.display import display, HTML\n",
    "display(HTML(\"<style>.container { width:100% !important; }</style>\"))\n",
    "# to show the whole content in the columns\n",
    "pd.set_option('display.max_colwidth', -1)\n"
   ]
  },
  {
   "cell_type": "markdown",
   "metadata": {},
   "source": [
    "### 1.2 define path and file names\n",
    "- these names need to be edited if "
   ]
  },
  {
   "cell_type": "code",
   "execution_count": null,
   "metadata": {},
   "outputs": [],
   "source": [
    "# The '../data' directory is the folder to reserve all raw data files and the processed files during the process\n",
    "data_folder = os.path.abspath(os.path.join(os.getcwd(),'../data'))\n",
    "\n",
    "# the cleaned click data filename (Created from data_preprocessing.ipynb)\n",
    "cleanfile = os.path.join(data_folder, 'email_clean_2017_18.csv')\n",
    "\n",
    "# the filtered subscription and donation filenames (Created from data_preprocessing.ipynb)\n",
    "subscription_filenames = [os.path.join(data_folder, 'MJM_datakind_filtered.csv')]\n",
    "donation_filenames = [os.path.join(data_folder, 'DON_datakind_filtered.csv'), os.path.join(data_folder, 'SDN_datakind_filtered.csv')]\n",
    "\n",
    "# the LDA feature file name. if it doesn' exist in '../data', manually move the file to that folder\n",
    "lda_feature_filename = os.path.join(data_folder, 'lda20_results.csv')\n",
    "\n",
    "\n",
    "## now define some new file names used in the following process\n",
    "# define the filename for final processed click data\n",
    "click_data_filename = os.path.join(data_folder, 'newsletter_processed_data_final.pkl')\n",
    "\n",
    "# define the filename for final processed subscription and donation data\n",
    "sub_don_combined_filename = os.path.join(data_folder, 'subscription_donation_processed_data_final.pkl')\n",
    "\n",
    "# define the filename for count of clicks by LDA topics\n",
    "nclicks_by_modeling_topics_filename = os.path.join(data_folder, 'nclicks_by_modeling_topics.pkl')\n",
    "# define the filename for count of clicks by MoJo topics\n",
    "nclicks_by_various_topics_filename = os.path.join(data_folder, 'nclicks_by_various_topics.pkl')\n",
    "# define the file name for combined subscription, donation and click data\n",
    "sub_don_click_combined_filename = os.path.join(data_folder, 'subscription_donation_click_combined_data_final.pkl')\n"
   ]
  },
  {
   "cell_type": "markdown",
   "metadata": {},
   "source": [
    "# 2. Data Pre-process\n",
    "- run data_preprocessing.ipynb before proceeding \n"
   ]
  },
  {
   "cell_type": "code",
   "execution_count": null,
   "metadata": {},
   "outputs": [],
   "source": [
    "# 'data' directory should already contain all the raw data files\n",
    "#  all the processed data will be saved in 'data' directory\n",
    "if 'MJM_datakind_filtered.csv' in os.listdir(data_folder) and 'email_clean_2017_18.csv' in os.listdir(data_folder):\n",
    "    print(\"you are ready to proceed!\")\n",
    "else:\n",
    "    print(\"missing files; run data_preprocessing.ipynb before proceeding!\")"
   ]
  },
  {
   "cell_type": "markdown",
   "metadata": {},
   "source": [
    "## 2.1 parse click data to extract detailed information from Urls and save as python object\n"
   ]
  },
  {
   "cell_type": "code",
   "execution_count": null,
   "metadata": {},
   "outputs": [],
   "source": [
    "%%time\n",
    "print('get click data...')\n",
    "if os.path.exists(click_data_filename):\n",
    "    click_data = pd.read_pickle(click_data_filename)\n",
    "else:\n",
    "    \n",
    "    dat = pd.read_csv(cleanfile, dtype={'MONTH':object,'YEAR': int,'EMAIL':object,'file_month':str,'URL': object})\n",
    "    dat.rename(columns={'URL':'Url','EMAIL':'Email'}, inplace=True)\n",
    "\n",
    "    # create an instance of the class MojoNewsletterClicksParser\n",
    "    nl = MojoNewsletterClicksParser(url_df=dat)\n",
    "\n",
    "    # Parse Url, Browser and Recorded On and add parsed info to the original data frame\n",
    "    full_url_df = nl.extend_url_df( nl.url_df,\n",
    "                                    by_date=False,\n",
    "                                    by_url=True,\n",
    "                                    by_domain_type=True,\n",
    "                                    by_ua=False)\n",
    "    full_url_df['file_month'] = pd.to_datetime(dat['file_month'])\n",
    "\n",
    "    # only Urls with www.motherjones.com domain\n",
    "    click_data = nl.mojo_standard_parser(full_url_df,selected_cols=['Email',\n",
    "                                                                    'Url',\n",
    "                                                                    'domain',\n",
    "                                                                    'domain_type',\n",
    "                                                                    'topic',\n",
    "                                                                    'title',\n",
    "                                                                    'file_month'])\n",
    "    print('saving data...')\n",
    "    click_data.to_pickle(click_data_filename)\n",
    "    print('saved final processed click data as ' + click_data_filename)"
   ]
  },
  {
   "cell_type": "markdown",
   "metadata": {},
   "source": [
    "## 2.2 load and combine all the data\n",
    "\n",
    "\n",
    "- load subscription and donation data separately.\n",
    "- group by email and calculate the frequency, recency, date range and money value of subscriptions and donations\n",
    "- combine processed subscription and donation data\n",
    "- take around 5min\n",
    "- refer to section 1.2 for filename definations"
   ]
  },
  {
   "cell_type": "code",
   "execution_count": null,
   "metadata": {},
   "outputs": [],
   "source": [
    "%%time\n",
    "# load data if its pickle exists otherwise reprocess the data\n",
    "print('get combined subscription and donation data...')\n",
    "if os.path.exists(sub_don_combined_filename):\n",
    "    combined = pd.read_pickle(sub_don_combined_filename)\n",
    "    subscription_df = []\n",
    "    for f in subscription_filenames:\n",
    "        if '.csv' in f:\n",
    "            try: \n",
    "                dat = pd.read_csv(f,encoding = \"ISO-8859-1\")\n",
    "            except UnicodeDecodeError:\n",
    "                dat = pd.read_csv(f,encoding = \"utf-8\")\n",
    "        if '.xlsx' in f:\n",
    "            dat = pd.read_excel(f)\n",
    "        subscription_df.append(dat)\n",
    "    subscription = pd.concat(subscription_df)\n",
    "\n",
    "    donation_df = []\n",
    "    for f in donation_filenames:\n",
    "        if '.csv' in f:\n",
    "            dat = pd.read_csv(f,encoding = \"ISO-8859-1\")\n",
    "        if '.xlsx' in f:\n",
    "            dat = pd.read_excel(f)\n",
    "        donation_df.append(dat)\n",
    "    donation = pd.concat(donation_df)\n",
    "    print('load the combined processed subscription and donation data as data frame combined')\n",
    "else:\n",
    "    subscription, donation, combined = sub_don_process(subscription_filenames,\n",
    "                                                       donation_filenames,\n",
    "                                                       column_names = { 'email':'Hashed Email',\n",
    "                                                                        'amount':'AMT PAID',\n",
    "                                                                        'date': 'ORD ENTR DT',\n",
    "                                                                        'pubcode':'PUB'})\n",
    "\n",
    "    combined.to_pickle(sub_don_combined_filename)\n",
    "                      \n",
    "# reformat some columns    \n",
    "subscription.rename(columns = {'Hashed Email': 'EMAIL', 'PUB':'ORD-PUB-CODE'}, inplace=True)\n",
    "subscription['ORD ENTR DT'] = pd.to_datetime(subscription['ORD ENTR DT'])\n",
    "\n",
    "donation.rename(columns = {'Hashed Email': 'EMAIL', 'PUB':'ORD-PUB-CODE'}, inplace=True)\n",
    "donation['ORD ENTR DT'] = pd.to_datetime(donation['ORD ENTR DT'])\n"
   ]
  },
  {
   "cell_type": "markdown",
   "metadata": {},
   "source": [
    "- Then load pre-processed click data\n",
    "- group by email and count the unique number of urls and topics (both Mojo topicks and LDA topics) the email clicked.\n",
    "- combine processed subscription and donation data with the aggregated click data to a single wide data frame.\n",
    "- Take around 15min"
   ]
  },
  {
   "cell_type": "code",
   "execution_count": null,
   "metadata": {},
   "outputs": [],
   "source": [
    "%%time\n",
    "# get the combined user data and click data\n",
    "print('get combined user and click data...')\n",
    "if os.path.exists(sub_don_click_combined_filename):\n",
    "    sub_don_click_combined = pd.read_pickle(sub_don_click_combined_filename)\n",
    "    print('load the combined processed subscription, donation and click data as data frame sub_don_click_combined')\n",
    "\n",
    "else:    \n",
    "    \n",
    "    # count # post and # MoJo topics clicked by users\n",
    "    nclicks_by_users = click_data.groupby('Email').agg({'Url': pd.Series.nunique,'topic':pd.Series.nunique})\n",
    "    nclicks_by_users = nclicks_by_users.reset_index()\n",
    "\n",
    "    # count # clicks from each MoJo topic by users\n",
    "    nclicks_by_topics = reshape_data_to_wide(click_data,\n",
    "                                             row = 'Email', \n",
    "                                             col = 'topic', \n",
    "                                             element = 'Url',\n",
    "                                             cal = 'sum')\n",
    "    nclicks_by_topics = nclicks_by_topics.reset_index()\n",
    "    nclicks_by_topics = nclicks_by_topics.rename(columns = {'':'NA'})\n",
    "    \n",
    "\n",
    "    # count # of LDA topics per user (only choose tp 3 LDA topic for post)\n",
    "    nclicks_by_modeling_topics = cal_nclicks_by_modeling_topics_percentile(\n",
    "                                           topic_filename = lda_feature_filename, \n",
    "                                           raw_click_data = click_data, \n",
    "                                           prefix = 'LDA_', \n",
    "                                           topNtopics = 3)\n",
    "    # combine # clicks of MoJo topics per user with # clicks of LDA topics per user \n",
    "    nclicks_by_various_topics = nclicks_by_topics.merge(nclicks_by_modeling_topics, \n",
    "                                                        left_on= 'Email', \n",
    "                                                        right_on= 'Email', \n",
    "                                                        how= 'left').fillna(0)\n",
    "    \n",
    "    # save as pickles for easy access\n",
    "    nclicks_by_modeling_topics.to_pickle(nclicks_by_modeling_topics_filename)\n",
    "    nclicks_by_various_topics.to_pickle(nclicks_by_various_topics_filename)\n",
    "\n",
    "    # combine donation and subscription data with summarized click data\n",
    "    sub_don_click_combined_temp = combine_dat_sets(combined, \n",
    "                                                   nclicks_by_users, \n",
    "                                                   'Email','Email', join_method = 'left')\n",
    "    sub_don_click_combined_temp2 = combine_dat_sets(sub_don_click_combined_temp, \n",
    "                                                    nclicks_by_topics, \n",
    "                                                    'Email','Email', join_method = 'left')\n",
    "\n",
    "    sub_don_click_combined = combine_dat_sets(sub_don_click_combined_temp2, \n",
    "                                              nclicks_by_modeling_topics, \n",
    "                                              'Email','Email', join_method = 'left')\n",
    "\n",
    "    sub_don_click_combined = sub_don_click_combined.set_index('Email')\n",
    "\n",
    "    # save as pickle for easy access\n",
    "    sub_don_click_combined.to_pickle(sub_don_click_combined_filename)"
   ]
  },
  {
   "cell_type": "markdown",
   "metadata": {},
   "source": [
    "### The final product of the aggregation process:\n",
    "data frame 'sub_don_click_combined' with Email as index and columns explained as blow:\n"
   ]
  },
  {
   "cell_type": "markdown",
   "metadata": {},
   "source": [
    "|column name| description|\n",
    "| --- | --- | \n",
    "|subs_total|total dollar paid for subscription|\n",
    "|subs_freq| # subscriptions|\n",
    "|subs_recency| # days since the latest subscription|\n",
    "|subs_range| # days between the first and the last subscriptions|\n",
    "|don_total|total dollar paid for donation|\n",
    "|don_freq|donations|\n",
    "|don_recency| # days since the latest donation|\n",
    "|don_range|# days between the first and the last subscriptions|\n",
    "|MJM| if the email has pub code MJM |\n",
    "|DON| if the email has pub code DON |\n",
    "|SDN| if the email has pub code SDN (recurring donor) |\n",
    "|process_date| the date when the data is aggregated to calculate the date range |\n",
    "|Url| # unique urls the email clicked | \n",
    "|topic|\t# unique topic the email clicked |\n",
    "|NA| # urls the email clicked for topic 'NA' |\t\n",
    "|DeclineFreeSubscription-Confirmed|\t# urls the email clicked for topic 'DeclineFreeSubscription' |\n",
    "|Russia|# urls the email clicked for topic 'Russia' |\n",
    "|about|# urls the email clicked for topic 'about' |\n",
    "|author|# urls the email clicked for topic 'author' |\n",
    "|authors|# urls the email clicked for topic 'authors' |\n",
    "|blue-marble|# urls the email clicked for topic 'blue-marble' |\n",
    "|category|# urls the email clicked for topic 'category' |\n",
    "|contributor|# urls the email clicked for topic 'contributor' |\n",
    "|crime-justice|# urls the email clicked for topic 'crime-justice' |\n",
    "|digitalsample|# urls the email clicked for topic 'digitalsample' |\n",
    "|environment|# urls the email clicked for topic 'environment' |\n",
    "|food|# urls the email clicked for topic 'food' |\n",
    "|kevin-drum|# urls the email clicked for topic 'kevin-drum' |\n",
    "|media|# urls the email clicked for topic 'media' |\n",
    "|mediakit|# urls the email clicked for topic 'mediakit' |\n",
    "|mixed-media|# urls the email clicked for topic 'mixed-media' |\n",
    "|mojo|# urls the email clicked for topic 'mojo' |\n",
    "|newsletters|# urls the email clicked for topic 'newsletters' |\n",
    "|politics|# urls the email clicked for topic 'politics' |\n",
    "|riff|# urls the email clicked for topic 'riff' |\n",
    "|thank-you-for-sticking-with-us|# urls the email clicked for topic 'thank-you-for-sticking-with-us' |\n",
    "|thanks-for-signing-up|# urls the email clicked for topic 'thanks-for-signing-up' |\n",
    "|tom-philpott|# urls the email clicked for topic 'tom-philpott' |\n",
    "|topics|# urls the email clicked for topic 'topics' |\n",
    "|All| # urls the email clicked for all the topics |\n",
    "|LDA_Environment|# urls the email clicked for this LDA topic |\n",
    "|LDA_Misc1|# urls the email clicked for this LDA topic | \n",
    "|LDA_Healthcare|# urls the email clicked for this LDA topic | \n",
    "|LDA_Internet_and_Culture|# urls the email clicked for this LDA topic |\n",
    "|LDA_Economics_and_Taxes|# urls the email clicked for this LDA topic | \n",
    "|LDA_Drugs|# urls the email clicked for this LDA topic | \n",
    "|LDA_Criminal_Justice|# urls the email clicked for this LDA topic |\n",
    "|LDA_Corporations_and_Labor|# urls the email clicked for this LDA topic | \n",
    "|LDA_Misc2|# urls the email clicked for this LDA topic | \n",
    "|LDA_Trump_and_Russia|# urls the email clicked for this LDA topic |\n",
    "|LDA_Police_and_Prison|# urls the email clicked for this LDA topic | \n",
    "|LDA_Trump_and_Natl_Politics|# urls the email clicked for this LDA topic |\n",
    "|LDA_Obama_and_Dems|# urls the email clicked for this LDA topic | \n",
    "|LDA_Race_and_Racism|# urls the email clicked for this LDA topic | \n",
    "|LDA_Food|# urls the email clicked for this LDA topic | \n",
    "|LDA_Misc3|# urls the email clicked for this LDA topic |\n",
    "|LDA_Republican_Party|# urls the email clicked for this LDA topic | \n",
    "|LDA_Military|# urls the email clicked for this LDA topic | \n",
    "|LDA_Education|# urls the email clicked for this LDA topic |\n",
    "|LDA_National_Politics|# urls the email clicked for this LDA topic |\n"
   ]
  },
  {
   "cell_type": "markdown",
   "metadata": {},
   "source": [
    "# 3. User Insights - Overall Summary of Donors, Subscribers and Online Readers"
   ]
  },
  {
   "cell_type": "markdown",
   "metadata": {},
   "source": [
    "## 3.1 basic summary of the data (page 3)\n",
    "\n"
   ]
  },
  {
   "cell_type": "code",
   "execution_count": null,
   "metadata": {},
   "outputs": [],
   "source": [
    "%%time\n",
    "# count the number of unique emails by pub code\n",
    "subscription_counts = basic_counts(subscription)\n",
    "donation_counts = basic_counts(donation)\n",
    "\n",
    "# calcuate the total amounts by pub code\n",
    "subscription_sums = basic_sum(subscription)\n",
    "donation_sums = basic_sum(donation)"
   ]
  },
  {
   "cell_type": "markdown",
   "metadata": {},
   "source": [
    "### subscription data basic counts summary"
   ]
  },
  {
   "cell_type": "code",
   "execution_count": null,
   "metadata": {},
   "outputs": [],
   "source": [
    "print('### SUBSCRIPTION ###')\n",
    "print(\"Data date ranges from {} to {}\".format(subscription_counts['min_date'].date(),subscription_counts['max_date'].date()))\n",
    "print(\"count of unique emails: {}\".format(str(subscription_counts['nemails'])))\n",
    "print(\"count of unique emails by pub code:\") \n",
    "display(subscription_counts['nemails_by_pub'])\n",
    "print('count of overlap between pub codes: {}'.format(subscription_counts['noverlap']))"
   ]
  },
  {
   "cell_type": "markdown",
   "metadata": {},
   "source": [
    "### donation data basic counts summary"
   ]
  },
  {
   "cell_type": "code",
   "execution_count": null,
   "metadata": {},
   "outputs": [],
   "source": [
    "print('### DONATION ###')\n",
    "print(\"Data date ranges from {} to {}\".format(donation_counts['min_date'].date(),donation_counts['max_date'].date()))\n",
    "print(\"count of unique emails: {}\".format(str(donation_counts['nemails'])))\n",
    "print(\"count of unique emails by pub code:\") \n",
    "display(donation_counts['nemails_by_pub'])\n",
    "print(donation_counts['nemails_by_pub']/donation_counts['nemails'])\n",
    "print('\\n')\n",
    "print('count of emails having both DON and SDN: {}'.format(donation_counts['noverlap']))\n",
    "print('%{} donoars have both DON and SDN'. format(round(donation_counts['noverlap']/donation_counts['nemails']*100,2)))"
   ]
  },
  {
   "cell_type": "markdown",
   "metadata": {},
   "source": [
    "### Create a pie chart to present the amount distribution"
   ]
  },
  {
   "cell_type": "code",
   "execution_count": null,
   "metadata": {},
   "outputs": [],
   "source": [
    "import matplotlib.pyplot as plt\n",
    "fig, ax = plt.subplots(figsize=(8, 6), subplot_kw=dict(aspect=\"equal\"))\n",
    "\n",
    "recipe = [\"MJM\",\"SDN\",\"DON\"]\n",
    "\n",
    "data = [int(subscription_sums['sumamt_by_pub'].loc['MJM']),\n",
    "        int(donation_sums['sumamt_by_pub'].loc['SDN']),\n",
    "        int(donation_sums['sumamt_by_pub'].loc['DON'])]\n",
    "labels = ['MJM (subscriptions)','SDN (recurring donations)','DON (single donations)']\n",
    "\n",
    "def func(pct, allvals):\n",
    "    absolute = int(pct/100.*np.sum(allvals))\n",
    "    return \"{:.1f}%\\n(${:,})\".format(pct, absolute)\n",
    "\n",
    "\n",
    "wedges, texts, autotexts = ax.pie(data, autopct=lambda pct: func(pct, data),\n",
    "                                  textprops=dict(color=\"w\"))\n",
    "\n",
    "ax.legend(wedges, labels,\n",
    "          title=\"category\",\n",
    "          loc=\"center left\",\n",
    "          bbox_to_anchor=(1, 0, 0.5, 1))\n",
    "\n",
    "plt.setp(autotexts, size=12, weight=\"bold\")\n",
    "\n",
    "ax.set_title(\"Donation and Subscription Percentages\")\n",
    "\n",
    "plt.show()"
   ]
  },
  {
   "cell_type": "markdown",
   "metadata": {},
   "source": [
    "## 3.2 Create US State Maps for donation and subscription\n",
    "- subset data to only include US data\n",
    "- aggregate by state and count total amt paid and number of unique emails "
   ]
  },
  {
   "cell_type": "code",
   "execution_count": null,
   "metadata": {},
   "outputs": [],
   "source": [
    "# load state abbr and their 18+ population \n",
    "state_population = pd.read_csv(os.path.join(data_folder, 'state_population.csv'))\n",
    "state_population['pct'] = state_population['pop']/sum(state_population['pop'])\n",
    "\n",
    "# subset donation to only include US data\n",
    "# aggregate by state and count total amt paid and number of unique emails\n",
    "# calculate amount pct by state and donor pct by state\n",
    "# calculate index = donor pct by state / state population pct\n",
    "df = donation[donation.COUNTRY =='UNITED STATES'].groupby('STATE').agg({'AMT PAID':'sum', 'EMAIL': 'nunique'})\n",
    "df = df.reset_index()\n",
    "df['amt_pct'] = df['AMT PAID']/sum(df['AMT PAID'])\n",
    "df['num_pct'] = df['EMAIL']/sum(df['EMAIL'])\n",
    "df = df.merge(state_population, left_on='STATE', right_on = 'state')\n",
    "df['num_index'] = df['num_pct']/df['pct']\n",
    "\n",
    "# subset subscription to only include US data\n",
    "# aggregate by state and count total amt paid and number of unique emails\n",
    "# calculate amount pct by state and subscriber pct by state\n",
    "# calculate index = subscriber pct by state / state population pct\n",
    "df2 = subscription[subscription.COUNTRY =='UNITED STATES'].groupby('STATE').agg({'AMT PAID':'sum', 'EMAIL': 'nunique'})\n",
    "df2 = df2.reset_index()\n",
    "df2['amt_pct'] = df2['AMT PAID']/sum(df2['AMT PAID'])\n",
    "df2['num_pct'] = df2['EMAIL']/sum(df2['EMAIL'])\n",
    "df2 = df2.merge(state_population, left_on='STATE', right_on = 'state')\n",
    "df2['num_index'] = df2['num_pct']/df2['pct']"
   ]
  },
  {
   "cell_type": "markdown",
   "metadata": {},
   "source": [
    "- calculate the percentage of donation, donors and subscribers that are from US"
   ]
  },
  {
   "cell_type": "code",
   "execution_count": null,
   "metadata": {},
   "outputs": [],
   "source": [
    "amt_US_pct = sum(donation[donation.COUNTRY =='UNITED STATES']['AMT PAID'])/sum(donation['AMT PAID'])\n",
    "print(\"\"\"{}% donation are from US\"\"\".format(round(amt_US_pct*100,2)))\n",
    "\n",
    "US_donors_pct = len(donation[donation.COUNTRY =='UNITED STATES']['EMAIL'].unique())/len(donation['EMAIL'].unique())\n",
    "print(\"\"\"{}% donors are from US\"\"\".format(round(US_donors_pct*100,2)))\n",
    "\n",
    "US_subscribers_pct = len(subscription[subscription.COUNTRY =='UNITED STATES']['EMAIL'].unique())/len(subscription['EMAIL'].unique())\n",
    "print(\"\"\"{}% subscribers are from US\"\"\".format(round(US_subscribers_pct*100,2)))"
   ]
  },
  {
   "cell_type": "markdown",
   "metadata": {},
   "source": [
    "### plot Donation Amount by State"
   ]
  },
  {
   "cell_type": "code",
   "execution_count": null,
   "metadata": {},
   "outputs": [],
   "source": [
    "fig = plot_statemap( map_title = 'Donation Amount by State (2016-2018)',\n",
    "                     bar_title = 'Donation $',\n",
    "                     states = df['STATE'],\n",
    "                     values = df['AMT PAID'])\n",
    "iplot(fig, filename='d3-cloropleth-map')"
   ]
  },
  {
   "cell_type": "markdown",
   "metadata": {},
   "source": [
    "### Plot the number of Donors by State"
   ]
  },
  {
   "cell_type": "code",
   "execution_count": null,
   "metadata": {},
   "outputs": [],
   "source": [
    "fig = plot_statemap( map_title = 'The number of Donors by State (2016-2018)',\n",
    "                   bar_title = '# donors',\n",
    "                   states = df['STATE'],\n",
    "                   values = df['EMAIL'])\n",
    "iplot( fig)"
   ]
  },
  {
   "cell_type": "markdown",
   "metadata": {},
   "source": [
    "### Plot Donor Number Index by state"
   ]
  },
  {
   "cell_type": "code",
   "execution_count": null,
   "metadata": {},
   "outputs": [],
   "source": [
    "fig = plot_statemap( map_title = 'Donor Number Index by state (weighted by state 18+ population)(2016-2018)',\n",
    "                     bar_title = 'donor # index',\n",
    "                     states = df['STATE'],\n",
    "                     values = df['num_index'] )\n",
    "iplot( fig)"
   ]
  },
  {
   "cell_type": "markdown",
   "metadata": {},
   "source": [
    "### Plot the number of Subscribers by State"
   ]
  },
  {
   "cell_type": "code",
   "execution_count": null,
   "metadata": {},
   "outputs": [],
   "source": [
    "fig = plot_statemap( map_title = 'The number of Subscribers by State (2016-2018)',\n",
    "                   bar_title = '# subscribers',\n",
    "                   states = df2['STATE'],\n",
    "                   values = df2['EMAIL']\n",
    "                 )\n",
    "iplot( fig)"
   ]
  },
  {
   "cell_type": "markdown",
   "metadata": {},
   "source": [
    "### plot Subscriber Number Index by state"
   ]
  },
  {
   "cell_type": "code",
   "execution_count": null,
   "metadata": {},
   "outputs": [],
   "source": [
    "fig = plot_statemap( map_title = 'Subscriber Number Index by state (weighted by state 18+ population)(2016-2018)',\n",
    "                     bar_title = 'Subscriber # index',\n",
    "                    states = df2['STATE'],\n",
    "                    values = df2['num_index']\n",
    "                 )\n",
    "iplot( fig)"
   ]
  },
  {
   "cell_type": "markdown",
   "metadata": {},
   "source": [
    "## 3.3 Summary of the overlap between donors and subscribers "
   ]
  },
  {
   "cell_type": "markdown",
   "metadata": {},
   "source": [
    "- Which donors are also subscribers and vice versa?\n",
    "- create confusion matrix between donors and subscribers and find overlap"
   ]
  },
  {
   "cell_type": "code",
   "execution_count": null,
   "metadata": {},
   "outputs": [],
   "source": [
    "combined_cf = pd.crosstab(combined['subs_freq'].astype('bool'), \n",
    "                          combined['don_freq'].astype('bool'), \n",
    "                          rownames=['subscription'], \n",
    "                          colnames=['donation'], margins=True)\n",
    "print('confusion matrix of magazine subscription and donation')\n",
    "print('\\n')\n",
    "print(combined_cf)\n",
    "print('\\n')\n",
    "print('{}% of magazine subscribers also donated'.format(round(100*combined_cf.iloc[1,1]/combined_cf.iloc[1,2])))\n",
    "print('{}% of magazine subscribers also are recurring donors'.format(round(100*sum(combined[(combined['subs_freq'] > 0) & (combined['don_freq'] > 0)]['SDN'])/combined_cf.iloc[1,2])))\n",
    "\n",
    "print('{}% of donors are magazine subscribers'.format(round(100*combined_cf.iloc[1,1]/combined_cf.iloc[2,1])))\n",
    "\n",
    "don_clicked_url = sum((sub_don_click_combined['don_freq'] > 0) & (sub_don_click_combined['Url']>0))\n",
    "total_donor = sum(sub_don_click_combined['don_freq'] > 0)\n",
    "\n",
    "print('Also, {} donors clicked newsletter ({}%)'.format(don_clicked_url,round(don_clicked_url/total_donor*100,2)))\n",
    "    "
   ]
  },
  {
   "cell_type": "markdown",
   "metadata": {},
   "source": [
    "### analyze the donor & subscriber overlap change by year "
   ]
  },
  {
   "cell_type": "code",
   "execution_count": null,
   "metadata": {
    "scrolled": true
   },
   "outputs": [],
   "source": [
    "unique_years = subscription['ORD ENTR DT'].dt.year.unique()\n",
    "\n",
    "overlap_by_year = {'year':[],'overlap':[],'nsub':[],'ndon':[]}\n",
    "\n",
    "for single_year in unique_years:\n",
    "    single_sub = subscription[subscription['ORD ENTR DT'].dt.year == single_year].EMAIL.unique()\n",
    "    single_don = donation[donation['ORD ENTR DT'].dt.year == single_year].EMAIL.unique()\n",
    "    overlap_by_year['year'].append(single_year)\n",
    "    \n",
    "    noverlap = len(np.intersect1d(single_sub,single_don))\n",
    "    nsub = len(single_sub)\n",
    "    ndon = len(single_don)\n",
    "\n",
    "    overlap_by_year['overlap'].append(noverlap)\n",
    "    overlap_by_year['nsub'].append(nsub)\n",
    "    overlap_by_year['ndon'].append(ndon)\n",
    "    \n",
    "df = pd.DataFrame.from_dict(overlap_by_year)\n",
    "df['sub_pct'] = ['{:.1%}'.format(x) for x in df['overlap']/df['nsub']]\n",
    "df['don_pct'] = ['{:.1%}'.format(x) for x in df['overlap']/df['ndon']]\n",
    "\n",
    "df = df[['year','ndon','nsub','overlap','sub_pct','don_pct']]\n",
    "\n",
    "df = df.rename(columns={'ndon':'# donors','nsub':'# subscribers',\n",
    "                  'overlap':'# overlap','sub_pct':'% subscribers who donated','don_pct':'% donors who subscribed'})\n",
    "\n",
    "df.style.set_table_styles([dict(selector=\"th\",props=[('max-width', '100px')])])"
   ]
  },
  {
   "cell_type": "markdown",
   "metadata": {},
   "source": [
    "## 3.4 transition between donors and subscribers\n",
    "### If people both donated and subcribed, did they donate first or subscribe first? How many days between the two actions?"
   ]
  },
  {
   "cell_type": "code",
   "execution_count": null,
   "metadata": {},
   "outputs": [],
   "source": [
    "both_donor_sub = sub_don_click_combined.copy()[(sub_don_click_combined['subs_freq'] > 0) & (sub_don_click_combined['don_freq'] > 0)]\n",
    "both_donor_sub['earliest_don'] = both_donor_sub['don_range'] +  both_donor_sub['don_recency']\n",
    "both_donor_sub['earliest_sub'] = both_donor_sub['subs_range'] +  both_donor_sub['subs_recency']\n",
    "\n",
    "both_donor_sub['earliest_don_date'] = both_donor_sub['process_date'] + [datetime.timedelta(days = -x) for x in both_donor_sub['earliest_don']]\n",
    "both_donor_sub['earliest_sub_date'] = both_donor_sub['process_date'] + [datetime.timedelta(days = -x) for x in both_donor_sub['earliest_sub']]\n",
    "\n",
    "\n",
    "both_donor_sub = both_donor_sub[['earliest_don','earliest_sub','earliest_don_date','earliest_sub_date']]\n",
    "both_donor_sub = both_donor_sub.reset_index()"
   ]
  },
  {
   "cell_type": "code",
   "execution_count": null,
   "metadata": {},
   "outputs": [],
   "source": [
    "def transition_type(earliest_don, earliest_sub):\n",
    "    if earliest_don > earliest_sub:\n",
    "        return 'Donate first'\n",
    "    if earliest_don < earliest_sub:\n",
    "        return 'Subscribe first'\n",
    "    if earliest_don == earliest_sub:\n",
    "        return 'Donate and subscribe on the same day'\n",
    "\n",
    "both_donor_sub['transition_type'] = both_donor_sub.apply(lambda x: transition_type(x[1],x[2]), axis=1)\n",
    "both_donor_sub['transition_period'] = abs(both_donor_sub['earliest_don'] - both_donor_sub['earliest_sub'])\n",
    "both_donor_sub_transition = both_donor_sub.groupby('transition_type').agg({'Email':'count','transition_period':'median'})\n",
    "both_donor_sub_transition = both_donor_sub_transition.rename(columns = {'Email': 'email count',\n",
    "                                             'transition_period': 'average days between transition'})\n",
    "both_donor_sub_transition['email pct (%)'] = round(both_donor_sub_transition['email count']/both_donor_sub_transition['email count'].sum()*100,2)\n",
    "both_donor_sub_transition[['email pct (%)','average days between transition']]"
   ]
  },
  {
   "cell_type": "markdown",
   "metadata": {},
   "source": [
    "## 3.5 magazine subscription renew rate\n",
    "### check how many magazine subscribers renewed"
   ]
  },
  {
   "cell_type": "code",
   "execution_count": null,
   "metadata": {},
   "outputs": [],
   "source": [
    "# exclude users who subscribed the first time within a year\n",
    "blacklist_emails = combined[(combined['subs_freq'] ==1) & (combined['subs_recency']<360)]\n",
    "potential_renew_subscribers = combined[(combined['subs_freq'] >0 ) & (~combined['Email'].isin(blacklist_emails['Email']))]\n",
    "\n",
    "renew_rate = ((potential_renew_subscribers['subs_freq']> 1) & (potential_renew_subscribers['subs_range']> 300)).mean()\n",
    "# assume people only renew within 60 days of expiration\n",
    "print(\"magazine renew rate is \" + str(round(renew_rate*100,2)) + '%')"
   ]
  },
  {
   "cell_type": "markdown",
   "metadata": {},
   "source": [
    "## 3.6 donation distribution"
   ]
  },
  {
   "cell_type": "markdown",
   "metadata": {},
   "source": [
    "### analyze the relationship between cumulative donation and cumulative email freq for donation below $1000"
   ]
  },
  {
   "cell_type": "code",
   "execution_count": null,
   "metadata": {},
   "outputs": [],
   "source": [
    "cnts = don_email_cumpct(dat = combined[(combined['don_freq'] > 0)])\n",
    "\n",
    "# limit plot to only includ donation less than $1000 for better visualization\n",
    "plt.rcParams['figure.figsize'] = [8, 6]\n",
    "plt.plot( 'don_total', \n",
    "         'don_total_cumpct', \n",
    "         data=cnts[cnts['don_total'] < 1000], \n",
    "         marker='', markerfacecolor='green', markersize=12, color='green', linewidth=8)\n",
    "plt.plot( 'don_total', 'Email_cumpct',data=cnts[cnts['don_total'] < 1000], marker='', color='skyblue', linewidth=8)\n",
    "plt.legend(labels = ['cumulative % of total donations','cumulative % of emails'])\n",
    "plt.grid(True)\n",
    "plt.title(\"\\n\".join(wrap(\"Relationship between Cumulative Percentages of Donations and Donors\",50)),fontweight='bold', color = 'purple', fontsize = 'large')\n",
    "plt.xlabel(\"Donation Amount\",fontweight='bold', color = 'darkblue', fontsize = 'large')\n",
    "plt.ylabel(\"Cumulative Percentage (%)\",fontweight='bold', color = 'darkblue', fontsize = 'large')\n",
    "plt.xticks([0,500,1000],fontweight='bold', fontsize = 'large')\n",
    "plt.yticks(np.arange(0, 101, step=20),fontweight='bold', fontsize = 'large')\n",
    "plt.axvline(x=500, linestyle = '--',color='olive', linewidth=2)\n",
    "\n",
    "\n",
    "\n",
    "ec = cnts['Email_cumpct'][cnts['don_total']==500]\n",
    "print(str(int(round(ec))) +'% donors donated $500 or less')\n",
    "\n",
    "dc = cnts['don_total_cumpct'][cnts['don_total']==500]\n",
    "print('Their donations account for ' + str(int(round(dc))) +'% of the total donations')"
   ]
  },
  {
   "cell_type": "markdown",
   "metadata": {},
   "source": [
    "## 3.7 compare donation distribution among subscribers vs non-subscribers "
   ]
  },
  {
   "cell_type": "code",
   "execution_count": null,
   "metadata": {},
   "outputs": [],
   "source": [
    "donor_subscriber_cnts = don_email_cumpct(dat = combined[(combined['don_freq'] > 0) & (combined['subs_freq'] > 0)])\n",
    "donor_nonsubscriber_cnts = don_email_cumpct(dat = combined[(combined['don_freq'] > 0) & (combined['subs_freq'] == 0)])\n",
    "\n",
    "donor_subscriber_cnts_below1000 = donor_subscriber_cnts[donor_subscriber_cnts.don_total < 1000]\n",
    "donor_nonsubscriber_cnts_below1000 = donor_nonsubscriber_cnts[donor_nonsubscriber_cnts.don_total < 1000]"
   ]
  },
  {
   "cell_type": "code",
   "execution_count": null,
   "metadata": {},
   "outputs": [],
   "source": [
    "# plot donation distribution from subscribers vs non-subscribers                                                                                                                                                \n",
    "plt.rcParams['figure.figsize'] = [10, 8]\n",
    "plt.plot( 'don_total', 'don_total_cumpct', \n",
    "         data = donor_subscriber_cnts_below1000, \n",
    "         marker='', markerfacecolor='green', markersize=10, color='green', linewidth=6, linestyle = 'solid')\n",
    "\n",
    "plt.plot( 'don_total', 'don_total_cumpct',\n",
    "         data = donor_nonsubscriber_cnts_below1000, \n",
    "         marker='', color='red', linewidth=6, linestyle = 'dashed')\n",
    "\n",
    "plt.plot( 'don_total', 'Email_cumpct',\n",
    "         data = donor_subscriber_cnts_below1000, \n",
    "         marker='', color='skyblue', linewidth=6, linestyle = 'solid')\n",
    "\n",
    "plt.plot( 'don_total', 'Email_cumpct',\n",
    "         data = donor_nonsubscriber_cnts_below1000, \n",
    "         marker='', color='orange', linewidth=6, linestyle = 'dashed')\n",
    "\n",
    "plt.legend(labels = ['cum % of total donations (subscribers)',\n",
    "                     'cum % of total donations (non-subscribers)',\n",
    "                     'cum % of donors (subscribers)',\n",
    "                     'cum % of donors (non-subscribers)'\n",
    "                    ])\n",
    "plt.grid(True)\n",
    "plt.title(\"\\n\".join(wrap(\"Relationship between Cumulative Percentages of Donations and Donors\",50)),fontweight='bold', color = 'purple', fontsize = 'large')\n",
    "plt.xlabel(\"Donation Amount\",fontweight='bold', color = 'darkblue', fontsize = 'large')\n",
    "plt.ylabel(\"Cumulative Percentage (%)\",fontweight='bold', color = 'darkblue', fontsize = 'large')\n",
    "plt.xticks([0,500,1000],fontweight='bold', fontsize = 'large')\n",
    "plt.yticks(np.arange(0, 101, step=20),fontweight='bold', fontsize = 'large')\n",
    "plt.axvline(x=500, linestyle = '--',color='olive', linewidth=2)\n",
    "\n",
    "\n",
    "ds_ec = donor_subscriber_cnts_below1000['Email_cumpct'][donor_subscriber_cnts_below1000['don_total']==500]\n",
    "print(str(int(round(ds_ec))) +'% subscriber donors donated $500 or less')\n",
    "ds_dc = donor_subscriber_cnts_below1000['don_total_cumpct'][donor_subscriber_cnts_below1000['don_total']==500]\n",
    "print('Their donations account for ' + str(int(round(ds_dc))) +'% of the total subscriber donations')\n",
    "\n",
    "dns_ec = donor_nonsubscriber_cnts_below1000['Email_cumpct'][donor_nonsubscriber_cnts_below1000['don_total']==500]\n",
    "print(str(int(round(dns_ec))) +'% non-subscriber donors donated $500 or less')\n",
    "dns_dc = donor_nonsubscriber_cnts_below1000['don_total_cumpct'][donor_nonsubscriber_cnts_below1000['don_total']==500]\n",
    "print('Their donations account for ' + str(int(round(dns_dc))) +'% of the total non-subscriber donations')\n",
    "\n",
    "ds_ec2 = donor_subscriber_cnts['Email_cumpct'][donor_subscriber_cnts['don_total']==1000]\n",
    "print(str(int(round(ds_ec2))) +'% subscriber donors donated $1000 or less')\n",
    "ds_dc2 = donor_subscriber_cnts['don_total_cumpct'][donor_subscriber_cnts['don_total']==1000]\n",
    "print('Their donations account for ' + str(int(round(ds_dc2))) +'% of the total subscriber donations')\n",
    "\n",
    "dns_ec2 = donor_nonsubscriber_cnts['Email_cumpct'][donor_nonsubscriber_cnts['don_total']==1000]\n",
    "print(str(int(round(dns_ec2))) +'% non-subscriber donors donated $1000 or less')\n",
    "dns_dc2 = donor_nonsubscriber_cnts['don_total_cumpct'][donor_nonsubscriber_cnts['don_total']==1000]\n",
    "print('Their donations account for ' + str(int(round(dns_dc2))) +'% of the total non-subscriber donations')"
   ]
  },
  {
   "cell_type": "markdown",
   "metadata": {},
   "source": [
    "## 3.8 Campaign Effectiveness Analysis"
   ]
  },
  {
   "cell_type": "markdown",
   "metadata": {},
   "source": [
    "### Campaign Effectiveness Analysis \n",
    "#### group donotion data into spring, fall and dec campaigns\n",
    "- for each campaign, create three groups:\n",
    "- donation from the two months prior to the campaign\n",
    "- donation during the campaign\n",
    "- donation from the two months after the campaign\n",
    "- campaign months are: 5,6,9,10,12"
   ]
  },
  {
   "cell_type": "code",
   "execution_count": null,
   "metadata": {},
   "outputs": [],
   "source": [
    "# consider 5,6 as spring campaign; 9,10 as fall campaign; 12 as dec campaign\n",
    "# divide donotions into pre, mid and post of each campaign groups\n",
    "don_spring_camp = donation[donation['ORD ENTR DT'].dt.month.isin([5,6])].groupby('EMAIL').agg({'AMT PAID':'sum'})\n",
    "don_fall_camp = donation[donation['ORD ENTR DT'].dt.month.isin([9,10])].groupby('EMAIL').agg({'AMT PAID':'sum'})\n",
    "don_dec_camp = donation[donation['ORD ENTR DT'].dt.month.isin([12])].groupby('EMAIL').agg({'AMT PAID':'sum'})\n",
    "\n",
    "don_pre_spring_camp = donation[donation['ORD ENTR DT'].dt.month.isin([3,4])].groupby('EMAIL').agg({'AMT PAID':'sum'})\n",
    "don_pre_fall_camp = donation[donation['ORD ENTR DT'].dt.month.isin([7,8])].groupby('EMAIL').agg({'AMT PAID':'sum'})\n",
    "don_pre_dec_camp = donation[donation['ORD ENTR DT'].dt.month.isin([11])].groupby('EMAIL').agg({'AMT PAID':'sum'})\n",
    "\n",
    "don_post_spring_camp = donation[donation['ORD ENTR DT'].dt.month.isin([7,8])].groupby('EMAIL').agg({'AMT PAID':'sum'})\n",
    "don_post_fall_camp = donation[donation['ORD ENTR DT'].dt.month.isin([11])].groupby('EMAIL').agg({'AMT PAID':'sum'})\n",
    "don_post_dec_camp = donation[donation['ORD ENTR DT'].dt.month.isin([1])].groupby('EMAIL').agg({'AMT PAID':'sum'})\n",
    "\n",
    "\n",
    "camp = donation[donation['ORD ENTR DT'].dt.month.isin([5,6,9,10,12])].groupby('EMAIL').agg({'AMT PAID':'sum'})\n",
    "pre_camp = donation[donation['ORD ENTR DT'].dt.month.isin([3,4,7,8,11])].groupby('EMAIL').agg({'AMT PAID':'sum'})\n",
    "post_camp = donation[donation['ORD ENTR DT'].dt.month.isin([7,8,11,1])].groupby('EMAIL').agg({'AMT PAID':'sum'})"
   ]
  },
  {
   "cell_type": "code",
   "execution_count": null,
   "metadata": {},
   "outputs": [],
   "source": [
    "# reformat the donation group into a data frame with campaign label \n",
    "campaign_dic = {'period':['pre-campaign']*(don_pre_spring_camp.shape[0] + don_pre_fall_camp.shape[0] + don_pre_dec_camp.shape[0]) + \\\n",
    "                      ['mid-campaign']*(don_spring_camp.shape[0] + don_fall_camp.shape[0] + don_dec_camp.shape[0]) + \\\n",
    "                      ['post-campaign']*(don_post_spring_camp.shape[0] + don_post_fall_camp.shape[0] + don_post_dec_camp.shape[0]),         \n",
    "             'Donation/Person': pd.concat([don_pre_spring_camp,don_pre_fall_camp,don_pre_dec_camp,\n",
    "                                           don_spring_camp,don_fall_camp,don_dec_camp,\n",
    "                                           don_post_spring_camp,don_post_fall_camp,don_post_dec_camp])['AMT PAID'],\n",
    "             'campaign':['Spring/Summer']*don_pre_spring_camp.shape[0] + ['Fall']*don_pre_fall_camp.shape[0] + ['Dec']*don_pre_dec_camp.shape[0] + \\\n",
    "                        ['Spring/Summer']*don_spring_camp.shape[0] + ['Fall']*don_fall_camp.shape[0] + ['Dec']*don_dec_camp.shape[0] + \\\n",
    "                        ['Spring/Summer']*don_post_spring_camp.shape[0] + ['Fall']*don_post_fall_camp.shape[0] + ['Dec']*don_post_dec_camp.shape[0]\n",
    "\n",
    "            }\n",
    "campaign_df = pd.DataFrame.from_dict(campaign_dic)"
   ]
  },
  {
   "cell_type": "code",
   "execution_count": null,
   "metadata": {},
   "outputs": [],
   "source": [
    "# summarize the total donation amounts pre, mid and post each campaign peirod. \n",
    "campaign_summary = campaign_df.groupby(['period', 'campaign']).agg({'Donation/Person':['count','sum']})\n",
    "campaign_summary.columns = [\"_\".join(x) for x in campaign_summary.columns.ravel()]\n",
    "campaign_summary = campaign_summary.reset_index()\n",
    "campaign_summary.rename(columns = {'Donation/Person_sum':'Total Donation','Donation/Person_count':'Total Number of Donors'}, inplace=True)\n",
    "campaign_summary = pd.concat([campaign_summary[campaign_summary.period == 'pre-campaign'],\n",
    "                              campaign_summary[campaign_summary.period == 'mid-campaign'],\n",
    "                              campaign_summary[campaign_summary.period == 'post-campaign']])\n",
    "campaign_summary = campaign_summary.sort_values('campaign', ascending = False)\n",
    "print(campaign_summary)\n"
   ]
  },
  {
   "cell_type": "code",
   "execution_count": null,
   "metadata": {},
   "outputs": [],
   "source": [
    "# visualize the total donation comparison using barchart\n",
    "g = sns.catplot(x=\"campaign\", \n",
    "                y=\"Total Donation\", \n",
    "                data=campaign_summary,\n",
    "                hue=\"period\", \n",
    "                height=6,aspect=1.2, kind=\"bar\", palette=\"muted\")\n",
    "g.despine(left=True)\n",
    "g.set_ylabels(\"Total Donation\")\n",
    "plt.title('Campaign Effectiveness on Total Donation', fontsize = 'x-large')"
   ]
  },
  {
   "cell_type": "code",
   "execution_count": null,
   "metadata": {},
   "outputs": [],
   "source": [
    "# visualize the total donors comparison using barchart\n",
    "g = sns.catplot(x=\"campaign\", \n",
    "                y=\"Total Number of Donors\", \n",
    "                data=campaign_summary,\n",
    "                hue=\"period\", \n",
    "                height=6,aspect=1.2, kind=\"bar\", palette=\"muted\")\n",
    "g.despine(left=True)\n",
    "g.set_ylabels(\"Total Number of Donors\")\n",
    "plt.title('Campaign Effectiveness on the Number of Donors', fontsize = 'x-large')"
   ]
  },
  {
   "cell_type": "code",
   "execution_count": null,
   "metadata": {},
   "outputs": [],
   "source": [
    "# visualize the donation per person comparison by box plot\n",
    "sns.set(rc={'figure.figsize':(20,10)})\n",
    "testPlot = sns.catplot(x='campaign', y='Donation/Person',\n",
    "                       hue='period', data=campaign_df, palette=\"muted\",\n",
    "                       showfliers=False,\n",
    "                       kind='box'\n",
    "                       ,height=8, aspect=1.5\n",
    "                      )\n",
    "\n",
    "plt.title('Campaign Effectiveness on Donation per Person', fontsize = 'x-large')\n",
    "\n",
    "print(\"Median values:\")\n",
    "print(campaign_df.groupby(['period', 'campaign'])['Donation/Person'].median())"
   ]
  },
  {
   "cell_type": "markdown",
   "metadata": {},
   "source": [
    "## 3.9 donation and subscription trend analysis\n",
    "-  Aggregate subscription and donation data by month\n",
    "- only consider donations now ( combine DON and SDN)"
   ]
  },
  {
   "cell_type": "code",
   "execution_count": null,
   "metadata": {},
   "outputs": [],
   "source": [
    "# get all the unique year numbers from subscription data\n",
    "unique_years = subscription['ORD ENTR DT'].dt.year.unique()\n",
    "\n",
    "\n",
    "# count of the number of donors by month\n",
    "counts_by_year = {'year_month':[],'DON':[]}\n",
    "for single_year, single_month in itertools.product(unique_years,range(1,13)):\n",
    "\n",
    "    subset_donation = donation[(donation['ORD ENTR DT'].dt.year == single_year) & \\\n",
    "                               (donation['ORD ENTR DT'].dt.month == single_month)]\n",
    "    if (not subset_donation.empty):\n",
    "        bc_donation = basic_counts(subset_donation)\n",
    "        counts_by_year['DON'].append(int(bc_donation['nemails']))        \n",
    "        counts_by_year['year_month'].append(datetime.datetime(single_year,single_month,1))\n",
    "    \n",
    "counts_by_year_df = pd.DataFrame.from_dict(counts_by_year)\n",
    "\n",
    "# count of the number of donations by month\n",
    "events_by_year = {'year_month':[],'DON':[]}\n",
    "for single_year, single_month in itertools.product(unique_years,range(1,13)):\n",
    "    \n",
    "    subset_donation = donation[(donation['ORD ENTR DT'].dt.year == single_year) & \\\n",
    "                               (donation['ORD ENTR DT'].dt.month == single_month)]\n",
    "    if (not subset_donation.empty):\n",
    "        events_by_year['DON'].append(subset_donation.shape[0])\n",
    "        events_by_year['year_month'].append(datetime.datetime(single_year,single_month,1))\n",
    "    \n",
    "events_by_year_df = pd.DataFrame.from_dict(events_by_year)\n",
    "\n",
    "# count of the donation amount by month\n",
    "amounts_by_year = {'year_month':[],'DON':[]}\n",
    "for single_year, single_month in itertools.product(unique_years,range(1,13)):\n",
    "    subset_donation = donation[(donation['ORD ENTR DT'].dt.year == single_year) & \\\n",
    "                               (donation['ORD ENTR DT'].dt.month == single_month)]\n",
    "                                        \n",
    "    if (not subset_donation.empty):\n",
    "        bc_donation = basic_sum(subset_donation)\n",
    "        amounts_by_year['DON'].append(bc_donation['sumamt'])\n",
    "        \n",
    "        amounts_by_year['year_month'].append(datetime.datetime(single_year,single_month,1))\n",
    "\n",
    "amounts_by_year_df = pd.DataFrame.from_dict(amounts_by_year)\n",
    "\n",
    "# count of avg donation per person by month\n",
    "amounts_unit_by_year = {'year_month':[],'DON':[]}\n",
    "for single_year, single_month in itertools.product(unique_years,range(1,13)):\n",
    "\n",
    "    subset_donation = donation[(donation['ORD ENTR DT'].dt.year == single_year) & \\\n",
    "                               (donation['ORD ENTR DT'].dt.month == single_month)]\n",
    "                                        \n",
    "    if not subset_donation.empty:\n",
    "        total_amounts = basic_sum(subset_donation)\n",
    "        total_emails = basic_counts(subset_donation)\n",
    "\n",
    "        amounts_unit_by_year['DON'].append(int(total_amounts['sumamt_by_pub'].loc['DON'])/int(total_emails['nemails_by_pub'].loc['DON']))     \n",
    "        amounts_unit_by_year['year_month'].append(datetime.datetime(single_year,single_month,1))\n",
    "\n",
    "amounts_unit_by_year_df = pd.DataFrame.from_dict(amounts_unit_by_year)"
   ]
  },
  {
   "cell_type": "markdown",
   "metadata": {},
   "source": [
    "### plot to show the number of subscribers /donors change by month"
   ]
  },
  {
   "cell_type": "markdown",
   "metadata": {},
   "source": [
    "### plot the number of donors change by month"
   ]
  },
  {
   "cell_type": "code",
   "execution_count": null,
   "metadata": {
    "scrolled": true
   },
   "outputs": [],
   "source": [
    "make_solid_plot(x = 'year_month', y = 'DON', df = counts_by_year_df,\n",
    "                xlab = \"month\", ylab = \"number of donors\", title = \"The number of donors change by month\",\n",
    "                legends = ['# donors by month','trend line (5 month avg)','end of year'])"
   ]
  },
  {
   "cell_type": "markdown",
   "metadata": {},
   "source": [
    "### plot Total donation change by month"
   ]
  },
  {
   "cell_type": "code",
   "execution_count": null,
   "metadata": {},
   "outputs": [],
   "source": [
    "make_solid_plot(x = 'year_month', y = 'DON', df = amounts_by_year_df,\n",
    "                xlab = \"month\", ylab = \"total amount\", title = \"Total donation change by month\",\n",
    "                legends = ['total donation by month','trend line (5 month avg)','end of year']) "
   ]
  },
  {
   "cell_type": "code",
   "execution_count": null,
   "metadata": {},
   "outputs": [],
   "source": [
    "make_solid_plot(x = 'year_month', y = 'DON', df = amounts_unit_by_year_df,\n",
    "                xlab = \"month\", ylab = \"total amount\", title = \"Donors' avg contribution change by month\",\n",
    "                legends = ['Donor avg donation by month','trend line (5 month avg)','end of year'])"
   ]
  },
  {
   "cell_type": "markdown",
   "metadata": {},
   "source": [
    "## 3.10 newsletter click trend analysis"
   ]
  },
  {
   "cell_type": "markdown",
   "metadata": {},
   "source": [
    "### aggregate click data by month and make trend plot"
   ]
  },
  {
   "cell_type": "markdown",
   "metadata": {},
   "source": [
    "### plot the number people who clicked newsletters by month"
   ]
  },
  {
   "cell_type": "code",
   "execution_count": null,
   "metadata": {},
   "outputs": [],
   "source": [
    "nemails_by_month = click_data.groupby('file_month').agg({'Email':'nunique'})\n",
    "nemails_by_month = nemails_by_month.reset_index()\n",
    "\n",
    "make_click_data_scatter_plot(x_colname = 'file_month', y_colname = 'Email', df = nemails_by_month,\n",
    "                             xlab = \"month\", ylab = \"# emails\", title = \"# people who clicked newsletters by month\", \n",
    "                             legends = ['# online readers by month','trend line (5 month avg)','end of year'])"
   ]
  },
  {
   "cell_type": "markdown",
   "metadata": {},
   "source": [
    "### plot the # unique posts clicked by month"
   ]
  },
  {
   "cell_type": "code",
   "execution_count": null,
   "metadata": {},
   "outputs": [],
   "source": [
    "nurls_by_month = click_data.groupby('file_month').agg({'Url':'nunique'})\n",
    "\n",
    "nurls_by_month = nurls_by_month.reset_index()\n",
    "\n",
    "make_click_data_scatter_plot(x_colname = 'file_month', y_colname = 'Url', df = nurls_by_month,\n",
    "                             xlab = \"month\", ylab = \"# unique posts\", title = \"# unique posts clicked by month\", \n",
    "                             legends = ['# unique posts clicked by month','trend line (5 month avg)','end of year'])"
   ]
  },
  {
   "cell_type": "markdown",
   "metadata": {},
   "source": [
    "### plot total # clicks by month"
   ]
  },
  {
   "cell_type": "code",
   "execution_count": null,
   "metadata": {},
   "outputs": [],
   "source": [
    "nclicks_by_month = click_data.groupby('file_month').agg({'Url':'count'})\n",
    "nclicks_by_month = nclicks_by_month.reset_index()\n",
    "\n",
    "make_click_data_scatter_plot(x_colname = 'file_month', y_colname = 'Url', df = nclicks_by_month,\n",
    "                             xlab = \"month\", ylab = \"# clicks\", title = \"total # clicks by month\", \n",
    "                             legends = ['total # clicks by month','trend line (5 month avg)','end of year'])"
   ]
  },
  {
   "cell_type": "markdown",
   "metadata": {},
   "source": [
    "### plot the # of readers who first clicked posts ever by month, i.e # new readers by month "
   ]
  },
  {
   "cell_type": "code",
   "execution_count": null,
   "metadata": {},
   "outputs": [],
   "source": [
    "email_1st_click = click_data[(click_data.domain_type =='mojo_standard')].groupby('Email').agg({'file_month':'min'})\n",
    "email_1st_click = email_1st_click.reset_index()\n",
    "email_1st_click_bymonth = email_1st_click.groupby('file_month').agg({'Email':'count'})\n",
    "email_1st_click_bymonth = email_1st_click_bymonth.reset_index()\n",
    "\n",
    "placeholder = {'file_month':click_data.file_month.unique(), 'count':[0]*len(click_data.file_month.unique())}\n",
    "placeholder_df = pd.DataFrame.from_dict(placeholder).merge(email_1st_click_bymonth, how = 'left', right_on = 'file_month', left_on ='file_month')\n",
    "placeholder_df.fillna(0,inplace=True)\n",
    "placeholder_df = placeholder_df.sort_values(by = 'file_month')\n",
    "placeholder_df = placeholder_df[2:]\n",
    "\n",
    "make_click_data_scatter_plot(x_colname = 'file_month', y_colname = 'Email', df = placeholder_df,\n",
    "                             xlab = \"month\", ylab = \"# Email\", title = \"number of new readers by month\", \n",
    "                             legends = ['# new readers by month','trend line (5 month avg)','end of year'])"
   ]
  },
  {
   "cell_type": "markdown",
   "metadata": {},
   "source": [
    "### avg click per person by month "
   ]
  },
  {
   "cell_type": "code",
   "execution_count": null,
   "metadata": {},
   "outputs": [],
   "source": [
    "nclicks_by_personh = click_data.groupby(['file_month','Email']).agg({'Url':['count','nunique']})\n",
    "nclicks_by_personh.columns = [\"_\".join(x) for x in nclicks_by_personh.columns.ravel()]\n",
    "nclicks_by_personh = nclicks_by_personh.reset_index()\n",
    "nclicks_by_person_by_month = nclicks_by_personh.groupby('file_month').agg({'Url_count':'mean','Url_nunique':'mean'})\n",
    "nclicks_by_person_by_month = nclicks_by_person_by_month.reset_index()\n",
    "\n",
    "make_click_data_scatter_plot(x_colname = 'file_month', y_colname = 'Url_count', df = nclicks_by_person_by_month,\n",
    "                             xlab = \"month\", ylab = \"count\", title = \"avg clicks per person change by month\", \n",
    "                             legends = ['avg # unique urls/person','avg # clicks/person'])"
   ]
  },
  {
   "cell_type": "markdown",
   "metadata": {},
   "source": [
    "### explore the campaign effectiveness on readers' click rate"
   ]
  },
  {
   "cell_type": "code",
   "execution_count": null,
   "metadata": {},
   "outputs": [],
   "source": [
    "click_spring_camp = click_data[click_data['file_month'].dt.month.isin([5,6])].groupby('Email').agg({'Url':'count'})\n",
    "click_fall_camp = click_data[click_data['file_month'].dt.month.isin([9,10])].groupby('Email').agg({'Url':'count'})\n",
    "click_dec_camp = click_data[click_data['file_month']==datetime.datetime(2017,12,1)].groupby('Email').agg({'Url':'count'})\n",
    "\n",
    "click_pre_spring_camp = click_data[click_data['file_month'].dt.month.isin([3,4])].groupby('Email').agg({'Url':'count'})\n",
    "click_pre_fall_camp = click_data[click_data['file_month'].dt.month.isin([7,8])].groupby('Email').agg({'Url':'count'})\n",
    "click_pre_dec_camp = click_data[click_data['file_month']==datetime.datetime(2017,11,1)].groupby('Email').agg({'Url':'count'})\n",
    "\n",
    "click_post_spring_camp = click_data[click_data['file_month'].dt.month.isin([7,8])].groupby('Email').agg({'Url':'count'})\n",
    "click_post_fall_camp = click_data[click_data['file_month'].dt.month.isin([11])].groupby('Email').agg({'Url':'count'})\n",
    "click_post_dec_camp = click_data[click_data['file_month']==datetime.datetime(2018,1,1)].groupby('Email').agg({'Url':'count'})\n",
    "\n"
   ]
  },
  {
   "cell_type": "code",
   "execution_count": null,
   "metadata": {},
   "outputs": [],
   "source": [
    "click_combo_dic = {'period':['pre-campaign']*(click_pre_spring_camp.shape[0] + click_pre_fall_camp.shape[0] + click_pre_dec_camp.shape[0]) + \\\n",
    "                      ['mid-campaign']*(click_spring_camp.shape[0] + click_fall_camp.shape[0] + click_dec_camp.shape[0]) + \\\n",
    "                      ['post-campaign']*(click_post_spring_camp.shape[0] + click_post_fall_camp.shape[0] + click_post_dec_camp.shape[0]),         \n",
    "             '# clicks': pd.concat([click_pre_spring_camp,click_pre_fall_camp,click_pre_dec_camp,\n",
    "                                           click_spring_camp,click_fall_camp,click_dec_camp,\n",
    "                                           click_post_spring_camp,click_post_fall_camp,click_post_dec_camp])['Url'],\n",
    "             'campaign':['Spring/Summer']*click_pre_spring_camp.shape[0] + ['Fall']*click_pre_fall_camp.shape[0] + ['Dec']*click_pre_dec_camp.shape[0] + \\\n",
    "                        ['Spring/Summer']*click_spring_camp.shape[0] + ['Fall']*click_fall_camp.shape[0] + ['Dec']*click_dec_camp.shape[0] + \\\n",
    "                        ['Spring/Summer']*click_post_spring_camp.shape[0] + ['Fall']*click_post_fall_camp.shape[0] + ['Dec']*click_post_dec_camp.shape[0]\n",
    "            }\n",
    "click_combo_df = pd.DataFrame.from_dict(click_combo_dic)"
   ]
  },
  {
   "cell_type": "code",
   "execution_count": null,
   "metadata": {},
   "outputs": [],
   "source": [
    "click_summary = click_combo_df.groupby(['period', 'campaign']).agg({'# clicks':'sum'})\n",
    "click_summary = click_summary.reset_index()\n",
    "click_summary.rename(columns = {'# clicks':'Total Clicks'}, inplace=True)\n",
    "click_summary = pd.concat([click_summary[click_summary.period == 'pre-campaign'],click_summary[click_summary.period == 'mid-campaign'],click_summary[click_summary.period == 'post-campaign']])\n",
    "click_summary = click_summary.sort_values('campaign', ascending = False)"
   ]
  },
  {
   "cell_type": "code",
   "execution_count": null,
   "metadata": {},
   "outputs": [],
   "source": [
    "# compare total clicks before, mid and after campaigns with boxplot\n",
    "g = sns.catplot(x=\"campaign\", y=\"Total Clicks\", hue=\"period\", data=click_summary,\n",
    "                height=6,aspect=1.2, kind=\"bar\", palette=\"muted\")\n",
    "g.despine(left=True)\n",
    "g.set_ylabels(\"Total Clicks\")\n",
    "plt.title('Campaign Effectiveness on Total Newsletter Clicks', fontsize = 'x-large')\n"
   ]
  },
  {
   "cell_type": "code",
   "execution_count": null,
   "metadata": {},
   "outputs": [],
   "source": [
    "# compare # clicks per person before, mid and after campaigns with boxplot\n",
    "testPlot = sns.catplot(x='campaign', y='# clicks',\n",
    "                       hue='period', data=click_combo_df, palette=\"muted\",\n",
    "                       showfliers=False,\n",
    "                       kind='box',height=8, aspect=1.5)\n",
    "\n",
    "plt.title('Campaign Effectiveness on Newsletter Clicks per Person', fontsize = 'x-large')\n",
    "\n",
    "print(\"Median values:\")\n",
    "print(click_combo_df.groupby(['period', 'campaign'])['# clicks'].median())\n"
   ]
  },
  {
   "cell_type": "markdown",
   "metadata": {},
   "source": [
    "## 3.11 Survival Anlysis of newsletter engagement\n",
    "### Survival Analysis of how many months people clicked newsletters \n",
    "- only consider readers who started from 2017 and their 12-month activities"
   ]
  },
  {
   "cell_type": "code",
   "execution_count": null,
   "metadata": {},
   "outputs": [],
   "source": [
    "# find readers' earliest click month\n",
    "click_data_min = click_data.groupby(['Email']).agg({'file_month':'min'})\n",
    "click_data_min = click_data_min.reset_index()\n",
    "\n",
    "# only keep readers' data who first clicked in 2017\n",
    "clicked_2017 = click_data_min[click_data_min['file_month'] < datetime.datetime(2017,12,1)]['Email']\n",
    "\n",
    "filtered_click_data = click_data[click_data['Email'].isin(clicked_2017)]\n",
    "\n",
    "# create new data frame for these 2017 readers with their click data and their first month indicator\n",
    "filtered_click_data2 = filtered_click_data.merge(click_data_min, left_on = 'Email', right_on = 'Email')\n",
    "filtered_click_data2.rename(columns = {'file_month_x':'file_month','file_month_y':'first_month'},inplace=True)"
   ]
  },
  {
   "cell_type": "code",
   "execution_count": null,
   "metadata": {},
   "outputs": [],
   "source": [
    "# create a new column 'latest_month' that defined as the 12th month after the readers' first clicked month\n",
    "filtered_click_data2['latest_month'] = [ add_months(x,11) for x in filtered_click_data2['first_month']]\n",
    "\n",
    "filtered_click_data2['latest_month'] = pd.to_datetime(filtered_click_data2['latest_month'])\n",
    "\n",
    "# only keep readers' click data within 12-month window\n",
    "filtered_click_data2 = filtered_click_data2[filtered_click_data2['file_month'] <= filtered_click_data2['latest_month']]\n"
   ]
  },
  {
   "cell_type": "code",
   "execution_count": null,
   "metadata": {},
   "outputs": [],
   "source": [
    "# aggregate by email for its number of click month, first month and last month.\n",
    "filtered_click_data2_agg = filtered_click_data2.groupby(['Email']).agg({'file_month':['nunique','max'],\n",
    "                                                                        'latest_month':'max',\n",
    "                                                                        'first_month':'max'})\n",
    "filtered_click_data2_agg.columns = [\"_\".join(x) for x in filtered_click_data2_agg.columns.ravel()]\n",
    "filtered_click_data2_agg = filtered_click_data2_agg.reset_index()\n",
    "\n",
    "# calculate the readers' active month range and if they are still active by the end of 12-month window\n",
    "filtered_click_data2_agg['month_range'] = [diff_month(x,y)+1 for x, y in zip(filtered_click_data2_agg['file_month_max'],filtered_click_data2_agg['first_month_max'])]\n",
    "filtered_click_data2_agg['is_censored'] = [int(x) for x in (filtered_click_data2_agg['file_month_max'] == filtered_click_data2_agg['latest_month_max'])]"
   ]
  },
  {
   "cell_type": "code",
   "execution_count": null,
   "metadata": {},
   "outputs": [],
   "source": [
    "print('{}% emails were censored cuz they are active users'.format(round(100*filtered_click_data2_agg.is_censored.mean(),2)))\n",
    "print(filtered_click_data2_agg['month_range'].describe())"
   ]
  },
  {
   "cell_type": "markdown",
   "metadata": {},
   "source": [
    "### Survival rate for each month's new readers\n",
    "- used to explain why click rate is going down"
   ]
  },
  {
   "cell_type": "code",
   "execution_count": null,
   "metadata": {},
   "outputs": [],
   "source": [
    "%%time\n",
    "# visualize users' active months for each month's new readers using boxplot\n",
    "filtered_click_data2_agg['first_month'] = filtered_click_data2_agg['first_month_max'].apply(lambda x: datetime.datetime.strftime(x, '%Y-%m'))\n",
    "filtered_click_data2_agg = filtered_click_data2_agg.sort_values('first_month')\n",
    "g = sns.catplot(x='first_month', y='month_range',\n",
    "                        data=filtered_click_data2_agg, palette=\"muted\",\n",
    "                       showfliers=False,\n",
    "                       kind='box',height=8, aspect=1.5)\n",
    "g.set_ylabels(\"# active months within 12-month window\")\n",
    "g.set_xlabels(\"readers' first month\")\n",
    "\n",
    "plt.title(\"Survival rate for each month's new readers\", fontsize = 'x-large')"
   ]
  },
  {
   "cell_type": "markdown",
   "metadata": {},
   "source": [
    "### Survival Analysis for 2017's readers' click activity within a year"
   ]
  },
  {
   "cell_type": "code",
   "execution_count": null,
   "metadata": {},
   "outputs": [],
   "source": [
    "# survival probability plot for 2017 readers within a year\n",
    "from lifelines import KaplanMeierFitter\n",
    "import matplotlib.pyplot as plt\n",
    "sns.set(style=\"white\")\n",
    "plt.rcParams['figure.figsize'] = [6,6]\n",
    "\n",
    "durations = filtered_click_data2_agg['month_range']\n",
    "event_observed = 1-filtered_click_data2_agg['is_censored']\n",
    "\n",
    "## create a kmf object\n",
    "kmf = KaplanMeierFitter() \n",
    "\n",
    "## Fit the data into the model\n",
    "kmf.fit(durations, event_observed,label='2017 readers survival rate within a year')\n",
    "\n",
    "a1 = kmf.plot(ci_show=True)\n",
    "a1.grid()\n",
    "a1.set_xticks(range(0,max(filtered_click_data2_agg['month_range'])+1))\n",
    "a1.set_ylabel(\"probability\")\n"
   ]
  },
  {
   "cell_type": "markdown",
   "metadata": {},
   "source": [
    "### Compare survival rate of newsletter engagement between donors and subscribers "
   ]
  },
  {
   "cell_type": "code",
   "execution_count": null,
   "metadata": {},
   "outputs": [],
   "source": [
    "%%time\n",
    "# get last two years' donors and subcribers \n",
    "# create three grouups: \n",
    "# people who are both donors and subscribers, people who are donors but not subscribers, people who are subscribers but not donors\n",
    "# take around 5min\n",
    "def intersection(lst1, lst2): \n",
    "    lst3 = [value for value in lst1 if value in lst2] \n",
    "    return lst3 \n",
    "\n",
    "def leftjoin(lst1, lst2): \n",
    "    lst3 = [value for value in lst1 if value not in lst2] \n",
    "    return lst3 \n",
    "\n",
    "\n",
    "donors = donation[(donation['ORD ENTR DT'] > datetime.datetime(2017,1,1)) & (donation['ORD ENTR DT'] < datetime.datetime(2018,12,31))]['EMAIL'].unique().tolist()\n",
    "\n",
    "subscribers = subscription[(subscription['ORD ENTR DT'] > datetime.datetime(2017,1,1)) & (subscription['ORD ENTR DT'] < datetime.datetime(2018,12,31))]['EMAIL'].unique().tolist()\n",
    "\n",
    "don_y_sub_y = intersection(donors,subscribers)\n",
    "don_y_sub_n = leftjoin(donors,subscribers)\n",
    "don_n_sub_y = leftjoin(subscribers,donors)"
   ]
  },
  {
   "cell_type": "code",
   "execution_count": null,
   "metadata": {},
   "outputs": [],
   "source": [
    "# survival probability plot for four\n",
    "\n",
    "print(\"\\n#### donors ####\")\n",
    "durations_donors = filtered_click_data2_agg[filtered_click_data2_agg['Email'].isin(donors)]['month_range']\n",
    "event_observed_donors = 1-filtered_click_data2_agg[filtered_click_data2_agg['Email'].isin(donors)]['is_censored']\n",
    "print('{}% emails were censored cuz they are active users'.format(round(100*(1-event_observed_donors).mean(),2)))\n",
    "print(\"donors' median active months:\" + str(durations_donors.median()) + \" months\")\n",
    " \n",
    "print(\"\\n#### non-donors ####\")\n",
    "durations_nondonors = filtered_click_data2_agg[~filtered_click_data2_agg['Email'].isin(donors)]['month_range']\n",
    "event_observed_nondonors = 1-filtered_click_data2_agg[~filtered_click_data2_agg['Email'].isin(donors)]['is_censored']\n",
    "print('{}% emails were censored cuz they are active users'.format(round(100*(1-event_observed_nondonors).mean(),2)))\n",
    "print(\"nondonors' median active months:\" + str(durations_nondonors.median()) + \" months\")\n",
    "\n",
    "print(\"\\n#### subscribers ####\")\n",
    "durations_subscribers = filtered_click_data2_agg[filtered_click_data2_agg['Email'].isin(subscribers)]['month_range']\n",
    "event_observed_subscribers = 1-filtered_click_data2_agg[filtered_click_data2_agg['Email'].isin(subscribers)]['is_censored']\n",
    "print('{}% emails were censored cuz they are active users'.format(round(100*(1-event_observed_subscribers).mean(),2)))\n",
    "print(\"subscribers' median active months:\" + str(durations_subscribers.median()) + \" months\")\n",
    "\n",
    "print(\"\\n#### non-subscribers ####\")\n",
    "durations_nonsubscribers = filtered_click_data2_agg[~filtered_click_data2_agg['Email'].isin(subscribers)]['month_range']\n",
    "event_observed_nonsubscribers = 1-filtered_click_data2_agg[~filtered_click_data2_agg['Email'].isin(subscribers)]['is_censored']\n",
    "print('{}% emails were censored cuz they are active users'.format(round(100*(1-event_observed_nonsubscribers).mean(),2)))\n",
    "print(\"non-subscribers' median active months:\" + str(durations_nonsubscribers.median()) + \" months\")\n",
    "\n",
    "print(\"\\n#### donors & subscribers ####\")\n",
    "durations_don_y_sub_y = filtered_click_data2_agg[filtered_click_data2_agg['Email'].isin(don_y_sub_y)]['month_range']\n",
    "event_observed_don_y_sub_y = 1-filtered_click_data2_agg[filtered_click_data2_agg['Email'].isin(don_y_sub_y)]['is_censored']\n",
    "print('{}% emails were censored cuz they are active users'.format(round(100*(1-event_observed_don_y_sub_y).mean(),2)))\n",
    "print(\"People who are both donors and subscribers' median active months:\" + str(durations_don_y_sub_y.median()) + \" months\")\n",
    "\n",
    "\n",
    "print(\"\\n#### donors & non-subscribers ####\")\n",
    "durations_don_y_sub_n = filtered_click_data2_agg[filtered_click_data2_agg['Email'].isin(don_y_sub_n)]['month_range']\n",
    "event_observed_don_y_sub_n = 1-filtered_click_data2_agg[filtered_click_data2_agg['Email'].isin(don_y_sub_n)]['is_censored']\n",
    "print('{}% emails were censored cuz they are active users'.format(round(100*(1-event_observed_don_y_sub_n).mean(),2)))\n",
    "print(\"People who are donors but not subscribers' median active months:\" + str(durations_don_y_sub_n.median()) + \" months\")\n",
    "\n",
    "print(\"\\n#### non-donors & subscribers ####\")\n",
    "durations_don_n_sub_y = filtered_click_data2_agg[filtered_click_data2_agg['Email'].isin(don_n_sub_y)]['month_range']\n",
    "event_observed_don_n_sub_y = 1-filtered_click_data2_agg[filtered_click_data2_agg['Email'].isin(don_n_sub_y)]['is_censored']\n",
    "print('{}% emails were censored cuz they are active users'.format(round(100*(1-event_observed_don_n_sub_y).mean(),2)))\n",
    "print(\"People who are subscribers but not donors' median active months:\" + str(durations_don_n_sub_y.median()) + \" months\")\n",
    "\n",
    "print(\"\\n#### non-donors & non subscribers ####\")\n",
    "durations_don_n_sub_n = filtered_click_data2_agg[filtered_click_data2_agg['Email'].isin(don_n_sub_y + don_y_sub_n + don_y_sub_y)]['month_range']\n",
    "event_observed_don_n_sub_n = 1-filtered_click_data2_agg[filtered_click_data2_agg['Email'].isin(don_n_sub_y + don_y_sub_n + don_y_sub_y)]['is_censored']\n",
    "print('{}% emails were censored cuz they are active users'.format(round(100*(1-event_observed_don_n_sub_n).mean(),2)))\n",
    "print(\"People who are not subscribers and not donors' median active months:\" + str(durations_don_n_sub_n.median()) + \" months\")\n",
    "\n",
    "\n",
    "\n",
    "\n",
    "## create a kmf object\n",
    "from lifelines import KaplanMeierFitter\n",
    "kmf1 = KaplanMeierFitter() \n",
    "kmf1.fit(durations_don_y_sub_y, event_observed_don_y_sub_y, label='Donor & Subsriber')\n",
    "a1 = kmf1.plot()\n",
    "a1.set_xticks(range(0,max(filtered_click_data2_agg['month_range'])+1))\n",
    "a1.set_ylabel(\"probability\")\n",
    "\n",
    "## fit the model for 2nd cohort\n",
    "kmf1.fit(durations_don_y_sub_n, event_observed_don_y_sub_n, label='Donor & Non-subsriber')\n",
    "kmf1.plot(ax=a1)\n",
    "\n",
    "## fit the model for 3nd cohort\n",
    "kmf1.fit(durations_don_n_sub_y, event_observed_don_n_sub_y, label='Non-donor & Subsriber')\n",
    "kmf1.plot(ax=a1)\n",
    "\n",
    "## fit the model for 4nd cohort\n",
    "kmf1.fit(durations_don_n_sub_n, event_observed_don_n_sub_n, label='Non-donors & Non-subsriber')\n",
    "kmf1.plot(ax=a1)\n",
    "\n",
    "a1.grid()\n",
    "\n"
   ]
  },
  {
   "cell_type": "markdown",
   "metadata": {},
   "source": [
    "# 4 User Insights - User Behavior Comparison\n",
    "\n",
    "## 4.1 What do our print subscribers engage in vs our online readers in the newsletters?\n",
    "\n",
    "The newsletter click data ranges from 2018/09/19 to 2018/10/30\n",
    "The magazine subscription data ranges from 2017-10-01 to 2018-11-09\n",
    "\n",
    "Limit magazine subscribers to 2017/09/20 - 2018/10/30 to get the overlap between newsletter subscribes and magazine subscribes"
   ]
  },
  {
   "cell_type": "code",
   "execution_count": null,
   "metadata": {},
   "outputs": [],
   "source": [
    "if 'nclicks_by_users' not in locals():\n",
    "    \n",
    "    nclicks_by_users = click_data.groupby('Email').agg({'Url': pd.Series.nunique,'topic':pd.Series.nunique})\n",
    "    nclicks_by_users = nclicks_by_users.reset_index()\n",
    "\n",
    "    nclicks_by_topics = reshape_data_to_wide(click_data,\n",
    "                                             row = 'Email', \n",
    "                                             col = 'topic', \n",
    "                                             element = 'Url',\n",
    "                                             cal = 'sum')\n",
    "    nclicks_by_topics = nclicks_by_topics.reset_index()\n",
    "    nclicks_by_topics = nclicks_by_topics.rename(columns = {'':'NA'})\n",
    "\n",
    "nclicks_by_various_topics = pd.read_pickle(nclicks_by_various_topics_filename)\n",
    "nclicks_by_modeling_topics= pd.read_pickle(nclicks_by_modeling_topics_filename)"
   ]
  },
  {
   "cell_type": "code",
   "execution_count": null,
   "metadata": {},
   "outputs": [],
   "source": [
    "# create a dictionary of three online reader groups:\n",
    "# online readers who are magazine subscribers\n",
    "# online readers who are non-magazine subscribers\n",
    "# online readers who are recent magazine subscribers\n",
    "\n",
    "min_date = datetime.date(2016, 1, 1)\n",
    "min_date2 = datetime.date(2017, 1, 1)\n",
    "max_date = datetime.date(2018, 11, 30)\n",
    "\n",
    "# get all the emails who subscribed the magazine within a year of the click data but before the end date of the click data\n",
    "mag_sub = subscription[(subscription['ORD ENTR DT'] > min_date) & (subscription['ORD ENTR DT'] < max_date)]['EMAIL'].unique().tolist()\n",
    "# get all the emails who subscribed the magazine during the newsletter campaign\n",
    "recent_mag_sub = subscription[(subscription['ORD ENTR DT'] > min_date2) & (subscription['ORD ENTR DT'] < max_date)]['EMAIL'].unique().tolist()\n",
    "# get all the emails who subscribed the news letter\n",
    "news_sub = click_data['Email'].unique().tolist()\n",
    "\n",
    "mag_news_sub_all = combine_dat_sets(nclicks_by_various_topics, nclicks_by_users, 'Email','Email', join_method = 'left')\n",
    "mag_news_sub_all['MJM'] = mag_news_sub_all['Email'].isin(mag_sub)\n",
    "\n",
    "online_reader_groups=OrderedDict()\n",
    "online_reader_groups['magazine subscribers']=mag_news_sub_all[mag_news_sub_all['MJM'] == True]\n",
    "online_reader_groups['non-magazine subscribers']=mag_news_sub_all[ mag_news_sub_all['MJM'] == False]\n",
    "online_reader_groups['recent magazine subscribers']=mag_news_sub_all[(mag_news_sub_all['MJM'] == True) & (mag_news_sub_all['Email'].isin(recent_mag_sub))]"
   ]
  },
  {
   "cell_type": "markdown",
   "metadata": {},
   "source": [
    "### a. how many online readers have subscribed the magazine?"
   ]
  },
  {
   "cell_type": "code",
   "execution_count": null,
   "metadata": {},
   "outputs": [],
   "source": [
    "print('out of {} clicked the newsletter, {} have subscribed magazine within a year ({}%)'.format(\n",
    "    mag_news_sub_all.shape[0], \n",
    "    sum(mag_news_sub_all['MJM']), \n",
    "    round(sum(mag_news_sub_all['MJM'])/mag_news_sub_all.shape[0]*100,2)\n",
    " ))\n"
   ]
  },
  {
   "cell_type": "markdown",
   "metadata": {},
   "source": [
    "### b. what's the click rate difference between online reasers who subcribed the magazines within a year,  who subscribed the magazines during the newsletter campaign and who didn't subcribe the magazines?"
   ]
  },
  {
   "cell_type": "code",
   "execution_count": null,
   "metadata": {},
   "outputs": [],
   "source": [
    "grps = ['magazine subscribers','recent magazine subscribers','non-magazine subscribers']\n",
    "\n",
    "online_reader_groups_click = {'group':[],'num_clicks': []}\n",
    "\n",
    "for g in grps:\n",
    "    online_reader_groups_click['group'].extend([g]*len(online_reader_groups[g]))\n",
    "    online_reader_groups_click['num_clicks'].extend(online_reader_groups[g]['Url'])\n",
    "online_reader_groups_click_df = pd.DataFrame.from_dict(online_reader_groups_click)"
   ]
  },
  {
   "cell_type": "code",
   "execution_count": null,
   "metadata": {},
   "outputs": [],
   "source": [
    "# use boxplot to compare click rateof magazine subscribers and that of non-magazine subscribers\n",
    "plot_group_boxplot(x_colname = 'group', y_colname = 'num_clicks', df = online_reader_groups_click_df,\n",
    "                      xlab = \"\", ylab = \"# clicks\",\n",
    "                      xticklab = ['subscribers','recent subscribers','non-subscribers'], \n",
    "                      yticklab = range(-10,int(max(online_reader_groups_click_df['num_clicks'])),10),\n",
    "                      title = \"newsletter click rate: print subsribers vs non-subscribers\")"
   ]
  },
  {
   "cell_type": "code",
   "execution_count": null,
   "metadata": {},
   "outputs": [],
   "source": [
    "#  compare # urls and # topics clicked by each donor group \n",
    "\n",
    "online_reader_groups_click_summary = []\n",
    "\n",
    "for grpname, dat in online_reader_groups.items():\n",
    "    \n",
    "    online_reader_groups_click_summary.append(check_click_distribution(df =dat, groupname =grpname))\n",
    "    \n",
    "print(\"compare # urls clicked by each donor group \")    \n",
    "display(pd.concat(online_reader_groups_click_summary, axis=1))\n",
    "\n",
    "online_reader_groups_topics_summary = []\n",
    "\n",
    "for grpname, dat in online_reader_groups.items():\n",
    "    \n",
    "    online_reader_groups_topics_summary.append(check_topics_distribution(df =dat, groupname =grpname))\n",
    "    \n",
    "print(\"compare # topics clicked by each donor group \")    \n",
    "display(pd.concat(online_reader_groups_topics_summary, axis=1))"
   ]
  },
  {
   "cell_type": "markdown",
   "metadata": {},
   "source": [
    "### c. what's the difference in the interested topics between online reasers who subcribed the magazines within a year, who subscribed the magazines during the newsletter campaign and who didn't subcribe the magazines?"
   ]
  },
  {
   "cell_type": "markdown",
   "metadata": {},
   "source": [
    "### heatmap subscriber vs non-subscriber using MOJO topics"
   ]
  },
  {
   "cell_type": "code",
   "execution_count": null,
   "metadata": {},
   "outputs": [],
   "source": [
    "# compare topic click rate\n",
    "topics = ['about','crime-justice', 'environment', 'food', 'kevin-drum',\n",
    "       'media', 'mixed-media','politics']\n",
    "comparison_groups = ['magazine subscribers',\n",
    "                     'non-magazine subscribers',\n",
    "                     'recent magazine subscribers'\n",
    "                    ]\n",
    "combo = pd.concat([sub_df_colsum(df = online_reader_groups[k],cols = topics, name = k) for k in comparison_groups],axis=1)\n",
    "\n",
    "# convert to click percentage\n",
    "for g in comparison_groups:\n",
    "    combo[g] = round(combo[g]/sum(online_reader_groups[g]['All'])*100,2) \n",
    "     \n",
    "print('compare magazine subscribers, recent magazine subscribers and non subscribers of the topics they clicked')\n",
    "print('all the numbers are the percentage of urls containing the certain topics')\n",
    "print(combo)\n",
    "\n",
    "plot_topic_heatmap(df = combo, xlab = \"\", ylab =\"# clicks\", \n",
    "                   xticklab = ['subscribers','recent subscribers','non-subscribers'], \n",
    "                   yticklab = [x.replace('LDA_','') for x in combo.index], \n",
    "                   title = \"% of clicks from topics\", \n",
    "                   fig_width = 14, fig_height = 8)"
   ]
  },
  {
   "cell_type": "code",
   "execution_count": null,
   "metadata": {},
   "outputs": [],
   "source": [
    "\n",
    "# calculate the overall topic click rate across all the readers\n",
    "overal_dist =sub_df_colsum(df = mag_news_sub_all,cols = topics, name = 'all readers')/sum(mag_news_sub_all['All'])\n",
    "combo_index = combo.copy()\n",
    "\n",
    "# calculate the ratio between the topic click from the givin group and the overall topic click rate across all the readers\n",
    "# then the ratio subtract 100% will be the percentage of how much more or less likely the group is interested in a topic than average\n",
    "for g in comparison_groups:\n",
    "      combo_index[g] = 100*(combo[g]/100/overal_dist - 1)\n",
    "\n",
    "        \n",
    "plot_topic_heatmap(df = combo_index, xlab = \"\", ylab =\"# clicks\", \n",
    "                   xticklab = ['subscribers','recent subscribers','non-subscribers'], \n",
    "                   yticklab = combo.index, \n",
    "                   title = \"\\n\".join(wrap('How much more likely does one group click a certain topic than average online readers? (%)',40)), \n",
    "                   fig_width = 14, fig_height = 8)        \n",
    "        \n"
   ]
  },
  {
   "cell_type": "markdown",
   "metadata": {},
   "source": [
    "### define LDA topics for heatmaps"
   ]
  },
  {
   "cell_type": "code",
   "execution_count": null,
   "metadata": {},
   "outputs": [],
   "source": [
    "lda_topics = pd.read_csv(lda_feature_filename,encoding = \"ISO-8859-1\").add_prefix('LDA_').columns[1:]\n"
   ]
  },
  {
   "cell_type": "markdown",
   "metadata": {},
   "source": [
    "### heatmap LDA topic subscribers vs non-subscribers"
   ]
  },
  {
   "cell_type": "code",
   "execution_count": null,
   "metadata": {},
   "outputs": [],
   "source": [
    "# compare topic click rate\n",
    "comparison_groups = ['magazine subscribers',\n",
    "                     'non-magazine subscribers',\n",
    "                     'recent magazine subscribers'\n",
    "                    ]\n",
    "combo = pd.concat([sub_df_colsum(df = online_reader_groups[k],cols = lda_topics, name = k) for k in comparison_groups],axis=1)\n",
    "\n",
    "# convert to click percentage\n",
    "for g in comparison_groups:\n",
    "    combo[g] = round(combo[g]/sum(online_reader_groups[g][lda_topics].sum(axis =0))*100,2) \n",
    "     \n",
    "print('compare magazine subscribers, recent magazine subscribers and non subscribers of the topics they clicked')\n",
    "print('all the numbers are the percentage of urls containing the certain topics')\n",
    "combo = combo.sort_index()\n",
    "combo = combo[['magazine subscribers','recent magazine subscribers','non-magazine subscribers']]\n",
    "combo\n",
    "\n",
    "plot_topic_heatmap(df = combo, xlab = \"\", ylab =\"# clicks\", \n",
    "                   xticklab = ['subscribers','recent subscribers','non-subscribers'], \n",
    "                   yticklab = [x.replace('LDA_','') for x in combo.index], \n",
    "                   title = \"% of clicks from LDA topics\", \n",
    "                   fig_width = 14, fig_height = 10)  "
   ]
  },
  {
   "cell_type": "code",
   "execution_count": null,
   "metadata": {},
   "outputs": [],
   "source": [
    "# calculate the overal topic click rate across all the readers\n",
    "overal_dist =sub_df_colsum(df = mag_news_sub_all,cols = lda_topics, name = 'all readers')/sum(mag_news_sub_all[lda_topics].sum(axis =0))\n",
    "combo_index = combo.copy()\n",
    "\n",
    "# calculate the ratio between the topic click from the givin group and the overall topic click rate across all the readers\n",
    "# then the ratio subtract 100% will be the percentage of how much more or less likely the group is interested in a topic than average\n",
    "for g in comparison_groups:\n",
    "      combo_index[g] = 100*(combo[g]/100/overal_dist - 1)\n",
    "\n",
    "plot_topic_heatmap(df = combo_index, xlab = \"\", ylab =\"# clicks\", \n",
    "                   xticklab = ['subscribers','recent subscribers','non-subscribers'], \n",
    "                   yticklab = [x.replace('LDA_','') for x in combo_index.index], \n",
    "                   title = \"\\n\".join(wrap('How much more likely does one group click a certain topic than average online readers? (%)',40)), \n",
    "                   fig_width = 14, fig_height = 10)  \n",
    "        \n"
   ]
  },
  {
   "cell_type": "markdown",
   "metadata": {},
   "source": [
    "### d. what's the difference in the most popular titles between online readers who subcribed the magazines within a year, who subscribed the magazines during the newsletter campaign and who didn't subcribe the magazines? "
   ]
  },
  {
   "cell_type": "code",
   "execution_count": null,
   "metadata": {
    "scrolled": false
   },
   "outputs": [],
   "source": [
    "print(\"Top 10 clicks from online readers who subcribed the magazines within a year\")\n",
    "find_most_popular_titles(df = click_data, emails = online_reader_groups['magazine subscribers']['Email'])"
   ]
  },
  {
   "cell_type": "code",
   "execution_count": null,
   "metadata": {
    "scrolled": true
   },
   "outputs": [],
   "source": [
    "print(\"Top 10 clicks from online readers who didn't subcribe the magazines\")\n",
    "find_most_popular_titles(df = click_data, emails = online_reader_groups['non-magazine subscribers']['Email'])"
   ]
  },
  {
   "cell_type": "code",
   "execution_count": null,
   "metadata": {},
   "outputs": [],
   "source": [
    "print(\"Top 10 clicks from online readers who subscribed the magazines during the newsletter campaign\")\n",
    "find_most_popular_titles(df = click_data, emails = online_reader_groups['recent magazine subscribers']['Email'])"
   ]
  },
  {
   "cell_type": "markdown",
   "metadata": {},
   "source": [
    "## 4.2  What differences and similarities can we find between loyal subscribers and new donors?\n",
    "\n",
    "Assume: \n",
    "- loyal subscribers are people who subscribed magazines two years in a row (assume people renew within a month before the subscription expires)\n",
    "- new donors are people who first donated during the campaigns."
   ]
  },
  {
   "cell_type": "markdown",
   "metadata": {},
   "source": [
    "### a.how many loyal subscribers and new donors clicked newsletter? how much did they donate?"
   ]
  },
  {
   "cell_type": "code",
   "execution_count": null,
   "metadata": {},
   "outputs": [],
   "source": [
    "# create two groups: loyal subscribers and new donors\n",
    "\n",
    "# define loyal subscribers are people who subscribed magazines two years in a row (assume people renew within a month before the subscription expires)\n",
    "loyal_sub = sub_don_click_combined[sub_don_click_combined['subs_range'] > 365-60]\n",
    "\n",
    "# define new donors are people who first donated during the campaigns\n",
    "min_date = datetime.date(2017, 1, 1)\n",
    "max_date = datetime.date(2018, 11, 30)\n",
    "old_donors_emails = donation[donation['ORD ENTR DT'] < min_date]['EMAIL'].unique().tolist()\n",
    "new_donors_emails = donation['EMAIL'][~donation['EMAIL'].isin(old_donors_emails)]\n",
    "\n",
    "new_donors = sub_don_click_combined[sub_don_click_combined.index.isin(new_donors_emails)]\n",
    "\n",
    "interested_groups=OrderedDict()\n",
    "interested_groups['loyal subscribers'] = loyal_sub\n",
    "interested_groups['new donors'] = new_donors"
   ]
  },
  {
   "cell_type": "code",
   "execution_count": null,
   "metadata": {},
   "outputs": [],
   "source": [
    "print(\"{} % loyal subscribers clicked and {}% donated ${} on average per person\".format(\n",
    "    round(100*((interested_groups['loyal subscribers']['Url'] > 0).mean()),2),\n",
    "    round(100*((interested_groups['loyal subscribers']['don_freq'] > 0).mean()),2),\n",
    "    round(interested_groups['loyal subscribers'][interested_groups['loyal subscribers']['don_freq'] > 0]['don_total'].mean(),2)))"
   ]
  },
  {
   "cell_type": "code",
   "execution_count": null,
   "metadata": {},
   "outputs": [],
   "source": [
    "print(\"{} % new donors clicked and donated ${} on average per person\".format(\n",
    "    round(100*((interested_groups['new donors']['Url'] > 0).mean()),2),\n",
    "    round(interested_groups['new donors']['don_total'].mean(),2)))"
   ]
  },
  {
   "cell_type": "markdown",
   "metadata": {},
   "source": [
    "### b. compare the number of urls clicked by loyal subscribers and new donors (page 27)"
   ]
  },
  {
   "cell_type": "code",
   "execution_count": null,
   "metadata": {},
   "outputs": [],
   "source": [
    "grps = ['loyal subscribers','new donors']\n",
    "\n",
    "interested_groups_click = {'group':[],'num_clicks': []}\n",
    "\n",
    "for g in grps:\n",
    "    interested_groups_click['group'].extend([g]*len(interested_groups[g]))\n",
    "    interested_groups_click['num_clicks'].extend(interested_groups[g]['Url'])\n",
    "interested_groups_click_df = pd.DataFrame.from_dict(interested_groups_click)\n",
    "interested_groups_click_df = interested_groups_click_df[interested_groups_click_df['num_clicks'] != 0]\n",
    "\n",
    "\n",
    "plot_group_boxplot(x_colname = 'group', y_colname = 'num_clicks', df = interested_groups_click_df,\n",
    "                      xlab = \"\", ylab = \"# clicks\",\n",
    "                      xticklab = ['loyal subscribers','new donors'], \n",
    "                      yticklab = range(-10,int(max(online_reader_groups_click_df['num_clicks'])),10),\n",
    "                      title = \"newsletter click rate: loyal subscribers vs new donors\")\n",
    "\n"
   ]
  },
  {
   "cell_type": "code",
   "execution_count": null,
   "metadata": {},
   "outputs": [],
   "source": [
    "interested_groups_click_summary = []\n",
    "\n",
    "for grpname, dat in interested_groups.items():\n",
    "    \n",
    "    interested_groups_click_summary.append(check_click_distribution(df =dat, groupname =grpname))\n",
    "    \n",
    "print(\"compare # urls clicked by loyal subscribers vs new donors \")    \n",
    "display(pd.concat(interested_groups_click_summary, axis=1))\n",
    "\n",
    "interested_groups_topics_summary = []\n",
    "\n",
    "for grpname, dat in interested_groups.items():\n",
    "    \n",
    "    interested_groups_topics_summary.append(check_topics_distribution(df =dat, groupname =grpname))\n",
    "    \n",
    "print(\"compare # topics clicked by loyal subscribers vs new donors\")    \n",
    "display(pd.concat(interested_groups_topics_summary, axis=1))"
   ]
  },
  {
   "cell_type": "markdown",
   "metadata": {},
   "source": [
    "### c. compare the topics clicked by loyal subscribers and new donors"
   ]
  },
  {
   "cell_type": "markdown",
   "metadata": {},
   "source": [
    "### Heatmap with Mojo Topics: loyal subscribers vs new donors"
   ]
  },
  {
   "cell_type": "code",
   "execution_count": null,
   "metadata": {},
   "outputs": [],
   "source": [
    "topics = ['about','crime-justice', 'environment', 'food', 'kevin-drum',\n",
    "       'media', 'mixed-media','politics']\n",
    "comparison_groups = ['loyal subscribers','new donors']\n",
    "combo = pd.concat([sub_df_colsum(df = interested_groups[k],cols = topics, name = k) for k in comparison_groups],axis=1)\n",
    "\n",
    "# convert to click percentage\n",
    "for g in comparison_groups:\n",
    "    combo[g] = round(combo[g]/sum(interested_groups[g]['All'])*100,2) \n",
    "\n",
    "print(combo)\n",
    "\n",
    "plot_topic_heatmap(df = combo, xlab = \"\", ylab =\"# clicks\", \n",
    "                   xticklab = combo.columns, \n",
    "                   yticklab = combo.index, \n",
    "                   title = \"% of clicks from topics\", \n",
    "                   fig_width = 14, fig_height = 10)  \n",
    "        \n"
   ]
  },
  {
   "cell_type": "code",
   "execution_count": null,
   "metadata": {},
   "outputs": [],
   "source": [
    "overal_dist =sub_df_colsum(df = mag_news_sub_all,cols = topics, name = 'all readers')/sum(mag_news_sub_all['All'])\n",
    "combo_index = combo.copy()\n",
    "\n",
    "for g in comparison_groups:\n",
    "    combo_index[g] = 100*(combo[g]/100/overal_dist - 1)\n",
    "\n",
    "        \n",
    "plot_topic_heatmap(df = combo_index, xlab = \"\", ylab =\"# clicks\", \n",
    "                   xticklab = combo_index.columns, \n",
    "                   yticklab = combo.index, \n",
    "                   title = \"\\n\".join(wrap('How much more likely does one group click a certain topic than average online readers? (%)',40)), \n",
    "                   fig_width = 14, fig_height = 10)  \n",
    "\n"
   ]
  },
  {
   "cell_type": "markdown",
   "metadata": {},
   "source": [
    "### heatmap LDA topic: loyal subscribers vs new donors"
   ]
  },
  {
   "cell_type": "code",
   "execution_count": null,
   "metadata": {},
   "outputs": [],
   "source": [
    "# compare topic click rate\n",
    "comparison_groups = ['loyal subscribers','new donors']\n",
    "combo = pd.concat([sub_df_colsum(df = interested_groups[k],cols = lda_topics, name = k) for k in comparison_groups],axis=1)\n",
    "\n",
    "# convert to click percentage\n",
    "\n",
    "for g in comparison_groups:\n",
    "    combo[g] = round(combo[g]/sum(interested_groups[g][lda_topics].sum(axis =0))*100,2) \n",
    "     \n",
    "print('all the numbers are the percentage of urls containing the certain topics')\n",
    "combo = combo.sort_index()\n",
    "combo\n",
    "\n",
    "plot_topic_heatmap(df = combo, xlab = \"\", ylab =\"# clicks\", \n",
    "                   xticklab = combo.columns, \n",
    "                   yticklab = [x.replace('LDA_','') for x in combo.index], \n",
    "                   title =\"% of clicks from LDA topics\", \n",
    "                   fig_width = 14, fig_height = 10)  \n",
    "\n"
   ]
  },
  {
   "cell_type": "code",
   "execution_count": null,
   "metadata": {},
   "outputs": [],
   "source": [
    "overal_dist =sub_df_colsum(df = mag_news_sub_all,cols = lda_topics, name = 'all readers')/sum(mag_news_sub_all[lda_topics].sum(axis =0))\n",
    "combo_index = combo.copy()\n",
    "\n",
    "for g in comparison_groups:\n",
    "    combo_index[g] = 100*(combo[g]/100/overal_dist - 1)\n",
    "\n",
    "plot_topic_heatmap(df = combo_index, xlab = \"\", ylab =\"# clicks\", \n",
    "                   xticklab = combo_index.columns, \n",
    "                   yticklab = [x.replace('LDA_','') for x in combo_index.index], \n",
    "                   title =\"\\n\".join(wrap('How much more likely does one group click a certain topic than average online readers? (%)',40)), \n",
    "                   fig_width = 14, fig_height = 10)  \n",
    "        \n",
    " "
   ]
  },
  {
   "cell_type": "code",
   "execution_count": null,
   "metadata": {},
   "outputs": [],
   "source": [
    "print(\"Top 10 clicks from loyal subscribers\")\n",
    "find_most_popular_titles(df = click_data, emails = interested_groups['loyal subscribers'].index)"
   ]
  },
  {
   "cell_type": "code",
   "execution_count": null,
   "metadata": {},
   "outputs": [],
   "source": [
    "print(\"Top 10 clicks from new donors\")\n",
    "find_most_popular_titles(df = click_data, emails = interested_groups['new donors'].index)"
   ]
  },
  {
   "cell_type": "markdown",
   "metadata": {},
   "source": [
    "## 4.3 Compare six different groups of donors and subscribers\n",
    "only have oct campaign data. too little to analyze the factors that lead to donation or subscription"
   ]
  },
  {
   "cell_type": "markdown",
   "metadata": {},
   "source": [
    "## Presentation summary\n",
    "\n",
    "### definition of the six groups\n",
    "- donation:\n",
    "    - regular donor\n",
    "    - high-value donor\n",
    "    - non donor\n",
    "- subscription\n",
    "    - print only\n",
    "    - online only\n",
    "    - both\n",
    "    \n",
    "- compare the six groups:\n",
    "    - % print sub\n",
    "    - % online click\n",
    "    - avg urls\n",
    "    - avg topics\n",
    "    - avg donation\n",
    "    - topic index vs avg online reader\n",
    "    - top 10 articles vs avg online reader"
   ]
  },
  {
   "cell_type": "code",
   "execution_count": null,
   "metadata": {},
   "outputs": [],
   "source": [
    "# use outer join to combine click data and subscription & donation data. \n",
    "sub_don_click_combined_temp = combine_dat_sets(combined, \n",
    "                                               nclicks_by_users, \n",
    "                                               'Email','Email', join_method = 'outer')\n",
    "all_dat = combine_dat_sets(sub_don_click_combined_temp, \n",
    "                            nclicks_by_various_topics,\n",
    "                             'Email','Email', join_method = 'outer')\n",
    "all_dat = all_dat.set_index('Email')"
   ]
  },
  {
   "cell_type": "code",
   "execution_count": null,
   "metadata": {},
   "outputs": [],
   "source": [
    "# define the six interested groups\n",
    "interested_groups = define_interested_groups(df= all_dat)"
   ]
  },
  {
   "cell_type": "markdown",
   "metadata": {},
   "source": [
    "### compare magazine subscription rate and newsletter click rate by each donor group (page 32)"
   ]
  },
  {
   "cell_type": "code",
   "execution_count": null,
   "metadata": {},
   "outputs": [],
   "source": [
    "# subscription rate summary\n",
    "subscription_rate_summary = []\n",
    "\n",
    "for grpname, dat in interested_groups.items():\n",
    "    \n",
    "    subscription_rate_summary.append(check_subscription_rate(df =dat, groupname =grpname))\n",
    "    \n",
    "subscription_rate_summary\n",
    "\n",
    "subscription_rate_summary_df = pd.DataFrame.from_records(subscription_rate_summary)\n",
    "subscription_rate_summary_df = subscription_rate_summary_df.rename(columns = {0:'group name',\n",
    "                                                                    1: 'magazine subscription rate',\n",
    "                                                                    2: 'newsletter click rate'})\n",
    "\n",
    "print(\"compare magazine subscription rate and newsletter click rate by each donor group \")   \n",
    "subscription_rate_summary_df.iloc[[0,1,2,6]]"
   ]
  },
  {
   "cell_type": "markdown",
   "metadata": {},
   "source": [
    "### compare avg donations by each donor group"
   ]
  },
  {
   "cell_type": "code",
   "execution_count": null,
   "metadata": {},
   "outputs": [],
   "source": [
    "# use boxplot to compare avg donations from the six groups\n",
    "groups_donations = {'group':[],'don_total': []}\n",
    "\n",
    "for g, dat in interested_groups.items():\n",
    "    groups_donations['group'].extend([g]*dat.shape[0])\n",
    "    groups_donations['don_total'].extend(dat['don_total'])\n",
    "\n",
    "    \n",
    "groups_donations_df = pd.DataFrame.from_dict(groups_donations)\n",
    "groups_donations_df = groups_donations_df[groups_donations_df['don_total'] != 0]\n",
    "groups_donations_df = groups_donations_df[groups_donations_df['group'] != 'highvalue donors (>= $500)']\n",
    "\n",
    "\n",
    "plot_group_boxplot(x_colname = 'don_total', y_colname = 'group', df = groups_donations_df,\n",
    "                      xlab = \"donation amount\", ylab = \"\",\n",
    "                      xticklab = [], \n",
    "                      yticklab = groups_donations_df['group'].unique(),\n",
    "                      title = \"donation comparision\", orient = 'h')\n",
    "\n",
    "\n"
   ]
  },
  {
   "cell_type": "markdown",
   "metadata": {},
   "source": [
    "### compare avg clicks from each group"
   ]
  },
  {
   "cell_type": "code",
   "execution_count": null,
   "metadata": {},
   "outputs": [],
   "source": [
    "# summarize the click rate from the six groups\n",
    "click_summary = []\n",
    "\n",
    "for grpname, dat in interested_groups.items():\n",
    "    \n",
    "    click_summary.append(check_click_distribution(df =dat, groupname =grpname))\n",
    "    \n",
    "print(\"compare # urls clicked by each donor group \")    \n",
    "pd.concat(click_summary, axis=1)\n"
   ]
  },
  {
   "cell_type": "code",
   "execution_count": null,
   "metadata": {},
   "outputs": [],
   "source": [
    "# use boxplot to compare the click rate from the six groups\n",
    "groups_clicks = {'group':[],'Url': []}\n",
    "\n",
    "for g, dat in interested_groups.items():\n",
    "    groups_clicks['group'].extend([g]*dat.shape[0])\n",
    "    groups_clicks['Url'].extend(dat['Url'])\n",
    "\n",
    "    \n",
    "groups_clicks_df = pd.DataFrame.from_dict(groups_clicks)\n",
    "groups_clicks_df = groups_clicks_df[groups_clicks_df['Url'] != 0]\n",
    "\n",
    "plot_group_boxplot(x_colname = 'Url', \n",
    "                    y_colname ='group' , df = groups_clicks_df,\n",
    "                      xlab = \"# clicks\", ylab = \"\",\n",
    "                      xticklab = [], \n",
    "                      yticklab = groups_clicks_df['group'].unique(),\n",
    "                      title = \"newsletter click rate comparision\",orient = 'h')\n",
    "\n"
   ]
  },
  {
   "cell_type": "markdown",
   "metadata": {},
   "source": [
    "### compare avg number of topics by each donor group"
   ]
  },
  {
   "cell_type": "code",
   "execution_count": null,
   "metadata": {},
   "outputs": [],
   "source": [
    "# summarize the avg topics clicked by the six groups\n",
    "topics_summary = []\n",
    "\n",
    "for grpname, dat in interested_groups.items():\n",
    "    \n",
    "    topics_summary.append(check_topics_distribution(df =dat, groupname =grpname))\n",
    "    \n",
    "print(\"compare # topics clicked by each donor group \")    \n",
    "display(pd.concat(topics_summary, axis=1))"
   ]
  },
  {
   "cell_type": "markdown",
   "metadata": {},
   "source": [
    "### compare avg donation by each donor group"
   ]
  },
  {
   "cell_type": "code",
   "execution_count": null,
   "metadata": {},
   "outputs": [],
   "source": [
    "def check_avg_donor_rate(df, groupname):\n",
    "    \n",
    "    if sum(df['don_total']>0) >0:\n",
    "        avg_don = round(df['don_total'][df['don_total']>0].median(),2)\n",
    "    else:\n",
    "        avg_don = 0\n",
    "    return (groupname, avg_don)\n",
    "                    \n",
    "avg_donation_summary = []\n",
    "\n",
    "for grpname, dat in interested_groups.items():\n",
    "    \n",
    "    avg_donation_summary.append(check_avg_donor_rate(df =dat, groupname =grpname))\n",
    "\n",
    "avg_donor_summary_df = pd.DataFrame.from_records(avg_donation_summary)\n",
    "avg_donor_summary_df = avg_donor_summary_df.rename(columns = {0:'group name',\n",
    "                                                                    1: 'avg donation'})\n",
    "\n",
    "print(\"compare average donation amounts by each donor group \")   \n",
    "avg_donor_summary_df"
   ]
  },
  {
   "cell_type": "markdown",
   "metadata": {},
   "source": [
    "### compare topic click rate and index by each donor group"
   ]
  },
  {
   "cell_type": "code",
   "execution_count": null,
   "metadata": {},
   "outputs": [],
   "source": [
    "topics = ['about','crime-justice', 'environment', 'food', 'kevin-drum',\n",
    "       'media', 'mixed-media','politics']\n",
    "comparison_groups = interested_groups.keys()\n",
    "combo = pd.concat([sub_df_colsum(df = interested_groups[k],cols = topics, name = k) for k in comparison_groups],axis=1)\n",
    "\n",
    "# convert to click percentage\n",
    "for g in comparison_groups:\n",
    "      combo[g] = round(combo[g]/sum(interested_groups[g]['All'])*100,2) \n",
    "\n",
    "# how much likely the group is to click a topic than average\n",
    "combo_index = combo.copy()\n",
    "for c in combo_index.columns:\n",
    "    combo_index[c] = round((combo_index[c]/combo['all online readers'] - 1)*100,2)\n",
    "\n",
    "combo_index = combo_index.drop(columns=['print subscriber only','all online readers'])\n",
    "combo = combo.drop(columns=['print subscriber only'])"
   ]
  },
  {
   "cell_type": "markdown",
   "metadata": {},
   "source": [
    "### Heatmap to compare groups’ interests MoJo topics"
   ]
  },
  {
   "cell_type": "code",
   "execution_count": null,
   "metadata": {},
   "outputs": [],
   "source": [
    "plot_topic_heatmap(df = combo_index.iloc[:,:6], xlab = \"\", ylab ='MoJo topics', \n",
    "                   xticklab = ['Reg Donors','High Donors','Non Donors','Online Only','Print & Online'], \n",
    "                   yticklab = combo.index, \n",
    "                   title =\"\\n\".join(wrap('How much more likely does one group click a certain topic than average online readers? (%)',40)), \n",
    "                   fig_width = 14, fig_height = 10)  \n",
    "     \n"
   ]
  },
  {
   "cell_type": "code",
   "execution_count": null,
   "metadata": {
    "scrolled": true
   },
   "outputs": [],
   "source": [
    "plot_topic_heatmap(df = combo, xlab = \"\", ylab ='MoJo topics', \n",
    "                   xticklab = ['Reg Donors','High Donors','Non Donors','Online Only','Print & Online','All Online'], \n",
    "                   yticklab = combo.index, \n",
    "                   title =\"\\n\".join(wrap('percentage of clicks from each topic (%)',40)), \n",
    "                   fig_width = 14, fig_height = 10)  \n"
   ]
  },
  {
   "cell_type": "markdown",
   "metadata": {},
   "source": [
    "### Heatmap to compare six groups’ interests LDA topics"
   ]
  },
  {
   "cell_type": "code",
   "execution_count": null,
   "metadata": {},
   "outputs": [],
   "source": [
    "# compare topic click rate\n",
    "\n",
    "comparison_groups = interested_groups.keys()\n",
    "combo = pd.concat([sub_df_colsum(df = interested_groups[k],cols = lda_topics, name = k) for k in comparison_groups],axis=1)\n",
    "\n",
    "# convert to click percentage\n",
    "\n",
    "for g in comparison_groups:\n",
    "    combo[g] = round(combo[g]/sum(interested_groups[g][lda_topics].sum(axis =0))*100,2) \n",
    "     \n",
    "print('all the numbers are the percentage of urls containing the certain topics')\n",
    "combo = combo.sort_index()\n",
    "#combo_index = combo_index.drop(columns=['print subscriber only','all online readers'])\n",
    "combo = combo.drop(columns=['print subscriber only'])\n",
    "\n",
    "\n",
    "plot_topic_heatmap(df = combo, xlab = \"\", ylab ='LDA topics', \n",
    "                   xticklab = combo.columns, \n",
    "                   yticklab = [x.replace('LDA_','') for x in combo.index], \n",
    "                   title =\"% of clicks from LDA topics\", \n",
    "                   fig_width = 22, fig_height = 10)  \n"
   ]
  },
  {
   "cell_type": "code",
   "execution_count": null,
   "metadata": {},
   "outputs": [],
   "source": [
    "comparison_groups = interested_groups.keys()\n",
    "combo = pd.concat([sub_df_colsum(df = interested_groups[k],cols = lda_topics, name = k) for k in comparison_groups],axis=1)\n",
    "\n",
    "# convert to click percentage\n",
    "for g in comparison_groups:\n",
    "    combo[g] = round(combo[g]/sum(interested_groups[g][lda_topics].sum(axis=0))*100,2) \n",
    "\n",
    "# how much likely the group is to click a topic than average\n",
    "combo_index = combo.copy()\n",
    "for c in combo_index.columns:\n",
    "    combo_index[c] = round((combo_index[c]/combo['all online readers'] - 1)*100,2)\n",
    "\n",
    "combo_index = combo_index.drop(columns=['print subscriber only','all online readers'])\n",
    "combo = combo.drop(columns=['print subscriber only'])\n",
    "\n",
    "plot_topic_heatmap(df = combo_index, xlab = \"\", ylab ='LDA topics', \n",
    "                   xticklab = combo_index.columns, \n",
    "                   yticklab = [x.replace('LDA_','') for x in combo_index.index], \n",
    "                   title =\"\\n\".join(wrap('How much more likely does one group click a certain topic than average online readers? (%)',40)), \n",
    "                   fig_width = 22, fig_height = 10)  \n",
    "\n"
   ]
  },
  {
   "cell_type": "markdown",
   "metadata": {},
   "source": [
    "### compare top clicked posts from the six groups"
   ]
  },
  {
   "cell_type": "code",
   "execution_count": null,
   "metadata": {},
   "outputs": [],
   "source": [
    "print(\"Top 10 clicks from the six groups\")\n",
    "for k in interested_groups.keys():\n",
    "    print(' #### {}'.format(k))\n",
    "    display(find_most_popular_titles(df = click_data, emails = interested_groups[k].index)[['title','email_pct']])"
   ]
  },
  {
   "cell_type": "markdown",
   "metadata": {
    "collapsed": true
   },
   "source": [
    "## 4.4 engagement difference between different donation sources (page 40)"
   ]
  },
  {
   "cell_type": "markdown",
   "metadata": {},
   "source": [
    "### load source code lookup data"
   ]
  },
  {
   "cell_type": "code",
   "execution_count": null,
   "metadata": {},
   "outputs": [],
   "source": [
    "src_p1_lookup = pd.read_csv(os.path.join(data_folder,'ICN FULFILLMENT SOURCE LIST.csv'),keep_default_na=False)"
   ]
  },
  {
   "cell_type": "markdown",
   "metadata": {},
   "source": [
    "### Add source name to donation data\n",
    "- find the names for the first and second letter of source code\n",
    "- create column source code tobe the combination of first letter and its name\n",
    "- filter and keep donation source name only"
   ]
  },
  {
   "cell_type": "code",
   "execution_count": null,
   "metadata": {},
   "outputs": [],
   "source": [
    "# function to return the first letter or the first 4 letters (SUST) of source codes\n",
    "def return_position1(x):\n",
    "    if str(x)[0] == 'S':\n",
    "        return str(x)[:4]\n",
    "    else:\n",
    "        return str(x)[0]\n",
    "    \n",
    "# name lookup based on the first two letters combo of source code    \n",
    "def return_position2(x):\n",
    "    y = str(x)\n",
    "    \n",
    "    if y[0] == '4':\n",
    "        if y[1] == 'A':\n",
    "            return 'Appeals'\n",
    "        if y[1] == 'R':\n",
    "            return 'Renewals'\n",
    "        if y[1:3] == 'LC':\n",
    "            return 'Sub Conversion'\n",
    "        if y[1] == 'L':\n",
    "            return ' Reinstatement'\n",
    "        if y[1:3] == 'TS':\n",
    "            return 'Telemarketing Sustainer Invite'\n",
    "        if y[1:3] == 'PD':\n",
    "            return 'Planned Giving'\n",
    "        if y[1] == 'B':\n",
    "            return 'Sub Inserts'\n",
    "        if y[1] == 'N':\n",
    "            return 'Gift Inserts'\n",
    "        if y[1] == 'U':\n",
    "            return 'Newsstand Inserts'\n",
    "        return 'unknown'\n",
    "    \n",
    "    if y[0] == '7':\n",
    "            \n",
    "        if y[1] in ['9', 'E', 'G', 'H', 'I', 'Z']:\n",
    "             return 'ICN Web Forms'\n",
    "        if y[1] in ['C']:\n",
    "            return 'Convio Web Forms'\n",
    "        if y[1] in ['P', 'F', 'Q', 'J', 'K']:\n",
    "            return 'ICN Web Forms'\n",
    "        if y[1] in ['D']:\n",
    "            return 'Digital Edition'\n",
    "        return 'unknown'\n",
    "    return ''\n",
    "    \n",
    "\n",
    "# add source name to donation data based on the first letter of their donation source codes.\n",
    "donation2 = donation.copy()\n",
    "donation2['position1'] = [return_position1(x)  for x in donation2['ORD LST SRC']]\n",
    "\n",
    "donation2 = donation2.merge(src_p1_lookup, left_on = 'position1', right_on ='position1', how = 'left' ).fillna('unknown')\n",
    "donation2\n",
    "\n",
    "donation2 = donation2[donation2['category'].isin(['FUNDRAISING DONATIONS','DONATIONS','unknown'])]\n",
    "\n",
    "donation2['name'] = [x.replace('Web Donations, E-Campaigns','Web Donations').replace('Membership Direct Mail Fundraising Promotions','Direct Mail Fundraising') for x in donation2['name']]\n",
    "donation2['source_name'] = donation2['position1'] + '-' + donation2['name']"
   ]
  },
  {
   "cell_type": "markdown",
   "metadata": {},
   "source": [
    "### count the total donation of each source and select the sources that account for at least 0.1% of total donations"
   ]
  },
  {
   "cell_type": "code",
   "execution_count": null,
   "metadata": {},
   "outputs": [],
   "source": [
    "don_by_src = donation2.groupby('source_name').agg({'AMT PAID':sum,})\n",
    "don_by_src['AMT PCT'] = don_by_src['AMT PAID']/sum(don_by_src['AMT PAID'])\n",
    "don_by_src = don_by_src[don_by_src['AMT PCT'] > 0.001]\n",
    "don_by_src = don_by_src.sort_values('AMT PAID',ascending=False).head(n=10)\n",
    "\n",
    "print(\"top donation sources\")\n",
    "print(don_by_src)"
   ]
  },
  {
   "cell_type": "markdown",
   "metadata": {},
   "source": [
    "## summarize the click rate of the top donation sources\n"
   ]
  },
  {
   "cell_type": "code",
   "execution_count": null,
   "metadata": {},
   "outputs": [],
   "source": [
    "%%time\n",
    "# compare the click rate of the top donation sources using bar charts\n",
    "# take around 1min\n",
    "nclicks_by_users = click_data.groupby('Email').agg({'Url': pd.Series.nunique,'topic':pd.Series.nunique})\n",
    "nclicks_by_users = nclicks_by_users.reset_index()\n",
    "top_src_emails = donation2[donation2['source_name'].isin(don_by_src.index)]\n",
    "top_src_emails_click = top_src_emails.merge(nclicks_by_users, left_on = 'EMAIL',right_on = 'Email')\n",
    "\n",
    "plot_group_boxplot(x_colname = 'Url', y_colname = 'source_name', df = top_src_emails_click,\n",
    "                      xlab = \"# clicks\", ylab = \"\",\n",
    "                      xticklab = [], yticklab = top_src_emails_click['source_name'].unique(),\n",
    "                      title = \"newsletter click rate comparision (Top donation sources)\",\n",
    "                      orient=\"h\")"
   ]
  }
 ],
 "metadata": {
  "kernelspec": {
   "display_name": "Python 2",
   "language": "python",
   "name": "python2"
  },
  "language_info": {
   "codemirror_mode": {
    "name": "ipython",
    "version": 3
   },
   "file_extension": ".py",
   "mimetype": "text/x-python",
   "name": "python",
   "nbconvert_exporter": "python",
   "pygments_lexer": "ipython3",
   "version": "3.4.5"
  }
 },
 "nbformat": 4,
 "nbformat_minor": 2
}
