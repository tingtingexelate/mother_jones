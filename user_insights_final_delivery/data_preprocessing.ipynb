{
 "cells": [
  {
   "cell_type": "markdown",
   "metadata": {},
   "source": [
    "# Data Pre-processing\n",
    "- Download MJM_datakind.csv, DON_datakind.csv, SDN_datakind.csv to 'data' folder\n",
    "- Download click data 'motherjones_clicks_2017_datakind' and 'motherjones_clicks_2018_datakind' to 'data' folder\n",
    "- Run this script to clean and reformat raw data files before running grouped insights scripts\n",
    "- Take less than 5min\n"
   ]
  },
  {
   "cell_type": "markdown",
   "metadata": {},
   "source": [
    "## load packages"
   ]
  },
  {
   "cell_type": "code",
   "execution_count": null,
   "metadata": {},
   "outputs": [],
   "source": [
    "import pandas as pd\n",
    "import datetime\n",
    "import os\n",
    "from time import strptime\n",
    "import re\n",
    "\n",
    "#  get the path for 'data' directory that's on the same level with the script directory\n",
    "# 'data' directory should already contain all the raw data files\n",
    "#  all the processed data will be saved in 'data' directory.\n",
    "data_folder = os.path.abspath(os.path.join(os.getcwd(),'../data'))\n",
    "print('Your data folder is:' + data_folder)"
   ]
  },
  {
   "cell_type": "markdown",
   "metadata": {},
   "source": [
    "## 1. Filter user files and save the data to new files\n",
    "- remove the last month of data to avoid bias introduced by incomplete last month data\n",
    "- remove donation records with paid amount euqal to zero\n",
    "- save the filtered as a new file named as orignal name + '_filtered.csv'\n",
    "- e.g. 'MJM_datakind.csv' will be filtered and saved as 'MJM_datakind_filtered.csv'"
   ]
  },
  {
   "cell_type": "code",
   "execution_count": null,
   "metadata": {
    "scrolled": true
   },
   "outputs": [],
   "source": [
    "# the absolute paths for donation files and subscription file\n",
    "raw_filenames = [os.path.join(data_folder, f) for f in ['MJM_datakind.csv', 'DON_datakind.csv', 'SDN_datakind.csv']]\n",
    "\n",
    "# the column name for order date\n",
    "date_column = 'ORD ENTR DT'\n",
    "# the column name for the paid dollar amount\n",
    "amt_column = 'AMT PAID'\n",
    "\n",
    "# process the files one by one \n",
    "for f in raw_filenames:\n",
    "    \n",
    "    print(\"processing \" + f)\n",
    "    if '.csv' in f:\n",
    "        try:\n",
    "            dat = pd.read_csv(f,encoding = \"utf-8\")\n",
    "        except UnicodeDecodeError:\n",
    "            dat = pd.read_csv(f,encoding = \"ISO-8859-1\")    \n",
    "\n",
    "    if '.xlsx' in f:\n",
    "        dat = pd.read_excel(f)\n",
    "    \n",
    "    # convert the date column to datetime format\n",
    "    dat[date_column] = pd.to_datetime(dat[date_column])\n",
    "        \n",
    "    # get the latest month from the file\n",
    "    last_date = datetime.datetime((max(dat[date_column])).year,\n",
    "                                  (max(dat[date_column])).month,                                     \n",
    "                                   1)\n",
    "        \n",
    "    # remove the last month of data to avoid bias introduced by incomplete last month data\n",
    "    print(\"remove data later than \" + str(last_date) + \": removed \" + str(sum(dat[date_column] >last_date)) + \" records\")\n",
    "    dat_filtered = dat[dat[date_column] < last_date]\n",
    "    \n",
    "    # remove donation records with paid amount euqal to zero\n",
    "    if 'DON' in f or 'SDN' in f:\n",
    "        print(\"remove data with AMT PAID = 0\"  + \": removed \" + str(sum(dat_filtered[amt_column] <= 0)) + \" records\")\n",
    "        dat_filtered = dat_filtered[dat_filtered[amt_column] > 0]\n",
    "\n",
    "    # save the data in a new file with orignal name + '_filtered.csv'\n",
    "    print(\"create \" + f.replace('.csv','_filtered.csv'))\n",
    "    dat_filtered.to_csv(f.replace('.csv','_filtered.csv'))\n",
    "    print('\\n')"
   ]
  },
  {
   "cell_type": "markdown",
   "metadata": {},
   "source": [
    "## 2. Filter click data files, combine and save the data to a new file"
   ]
  },
  {
   "cell_type": "code",
   "execution_count": null,
   "metadata": {},
   "outputs": [],
   "source": [
    "%%time\n",
    "# the raw 2017 click data is original saved in folder 'motherjones_clicks_2017_datakind'\n",
    "path_2017 = os.path.join(data_folder,'motherjones_clicks_2017_datakind')\n",
    "# the raw 2018 click data is original saved in folder 'motherjones_clicks_2018_datakind'\n",
    "path_2018 = os.path.join(data_folder,'motherjones_clicks_2018_datakind')\n",
    "\n",
    "# prefix for 2017 data files\n",
    "file_prefix_2017 = 'datakind_2017_'\n",
    "# prefix for 2018 data files\n",
    "file_prefix_2018 = 'datakind_2018_'\n",
    "\n",
    "# months extracted from 2017 data filenames\n",
    "filenames_2017 = ['january','february','april','april 2','may','june','july1','july2','august','septempber','october','november','december']\n",
    "# months extracted from 2018 data filenames\n",
    "filenames_2018 = ['january','feb','march','april','may','june','july','august','september','october','november']\n",
    "\n",
    "\n",
    "df = pd.DataFrame()\n",
    "df_list = []\n",
    "for f in filenames_2017:\n",
    "    \n",
    "    current_file = os.path.join(path_2017,file_prefix_2017 + f + '.csv')\n",
    "    tmp = pd.read_csv(current_file, index_col=None, header=0)\n",
    "    \n",
    "    # correct month name typos\n",
    "    if f == 'septempber':\n",
    "        f = 'september'\n",
    "    \n",
    "    if f == 'feb':\n",
    "        f = 'february'\n",
    "        \n",
    "    tmp['MONTH'] = f\n",
    "    tmp['YEAR'] = 2017\n",
    "    \n",
    "    # convert month name to numeric format and combine month and year and save as datetime\n",
    "    tmp['file_month'] = datetime.datetime(2017, int(strptime(re.sub('[0-9]+','',f.replace(' ','')),'%B').tm_mon),1)\n",
    "    df_list.append(tmp) \n",
    "    print(\"processed: \" + current_file)\n",
    "    \n",
    "for f in filenames_2018:\n",
    "    \n",
    "    current_file = os.path.join(path_2018,file_prefix_2018 + f + '.csv')\n",
    "    tmp = pd.read_csv(current_file, index_col=None, header=0)\n",
    "    \n",
    "    # correct month name typos\n",
    "    if f == 'septempber':\n",
    "        f = 'september'\n",
    "    \n",
    "    if f == 'feb':\n",
    "        f = 'february'\n",
    "        \n",
    "    tmp['MONTH'] = f\n",
    "    tmp['YEAR'] = 2018\n",
    "    \n",
    "    # convert month name to numeric format and combine month and year and save as datetime\n",
    "    tmp['file_month'] = datetime.datetime(2018, int(strptime(re.sub('[0-9]+','',f.replace(' ','')),'%B').tm_mon),1)\n",
    "    df_list.append(tmp)\n",
    "    print(\"processed: \" + current_file)\n",
    "\n",
    "print(\"combining processed data...\")\n",
    "df = pd.concat(df_list)\n",
    "## preprocessing\n",
    "# remove irrelevant columns, rename columns\n",
    "df = df.drop('email', axis=1)\n",
    "df = df.drop('email hash', axis=1)\n",
    "df.rename(columns = {'email hashed': 'EMAIL',\n",
    "                     'url': 'URL'\n",
    "                     }, inplace=True)\n",
    "# only keep URLs containing www.motherjones.com\n",
    "email_clean = df[df['URL'].str.contains(\"www.motherjones.com\")]\n",
    "\n",
    "print(\"saving processed data...\")\n",
    "email_clean.to_csv(os.path.join(data_folder,'email_clean_2017_18.csv'))\n",
    "print(\"cleaned and combined click data; save as \" + os.path.join(data_folder,'email_clean_2017_18.csv'))"
   ]
  }
 ],
 "metadata": {
  "kernelspec": {
   "display_name": "Python 3",
   "language": "python",
   "name": "python3"
  },
  "language_info": {
   "codemirror_mode": {
    "name": "ipython",
    "version": 3
   },
   "file_extension": ".py",
   "mimetype": "text/x-python",
   "name": "python",
   "nbconvert_exporter": "python",
   "pygments_lexer": "ipython3",
   "version": "3.4.5"
  }
 },
 "nbformat": 4,
 "nbformat_minor": 2
}
