{
 "cells": [
  {
   "cell_type": "markdown",
   "metadata": {},
   "source": [
    "# Subscription and Donation data exploration"
   ]
  },
  {
   "cell_type": "markdown",
   "metadata": {},
   "source": [
    "## load and aggregate data\n",
    "\n",
    "- load subscription and donation data separately.\n",
    "- group by email and calculate the frequency, recency and money value of subscriptions and donations\n",
    "- combine processed data"
   ]
  },
  {
   "cell_type": "code",
   "execution_count": 1,
   "metadata": {},
   "outputs": [],
   "source": [
    "import pandas as pd\n",
    "import datetime\n",
    "# to show the whole content in the columns\n",
    "pd.set_option('display.max_colwidth', -1)\n",
    "\n",
    "subsciption_filename = '/home/centos/mojo/data/subscriptions.xlsx'\n",
    "donation_filename = '/home/centos/mojo/data/donations_combined.xlsx'\n",
    "\n",
    "from subscription_donation_preprocess import sub_don_process\n",
    "from subscription_donation_preprocess import combine_dat_sets\n",
    "\n",
    "subscription, donation, combined = sub_don_process(subsciption_filename,\n",
    "                                                   donation_filename )"
   ]
  },
  {
   "cell_type": "markdown",
   "metadata": {},
   "source": [
    "- save the processed data to disk for future use"
   ]
  },
  {
   "cell_type": "code",
   "execution_count": 2,
   "metadata": {},
   "outputs": [],
   "source": [
    "combined.to_pickle('subscription_donation_processed_data.pkl')"
   ]
  },
  {
   "cell_type": "markdown",
   "metadata": {},
   "source": [
    "### summerize the donation and subscription data separately"
   ]
  },
  {
   "cell_type": "code",
   "execution_count": 2,
   "metadata": {},
   "outputs": [
    {
     "name": "stdout",
     "output_type": "stream",
     "text": [
      "#### #### #### #### #### #### #### \n",
      "#### summary of subscriptions #### \n",
      "         subs_total     subs_freq  subs_recency\n",
      "count  51177.000000  51177.000000  51177.000000\n",
      "mean   20.349169     1.262794      212.296168  \n",
      "std    12.248219     0.627154      122.522390  \n",
      "min    2.000000      1.000000      19.000000   \n",
      "25%    12.000000     1.000000      104.000000  \n",
      "50%    18.000000     1.000000      210.000000  \n",
      "75%    24.000000     1.000000      329.000000  \n",
      "max    990.000000    49.000000     423.000000  \n",
      "\n",
      "\n",
      "11646 subscribed more than twice\n",
      "1107 subscribed more than three\n",
      "122 subscribed more than five times\n",
      "#### an example of freq subscribers #### \n",
      "                                                                                                                                  EMAIL  \\\n",
      "44033  04fcd1ff223405668b4226410cfab7a2b5d553480927da9ce1ebb8ac0a1dc84428682d3d8c80b93c863de44c325bbd57fbbf54c4ad07bfa0f0879856c719014e   \n",
      "44034  04fcd1ff223405668b4226410cfab7a2b5d553480927da9ce1ebb8ac0a1dc84428682d3d8c80b93c863de44c325bbd57fbbf54c4ad07bfa0f0879856c719014e   \n",
      "44035  04fcd1ff223405668b4226410cfab7a2b5d553480927da9ce1ebb8ac0a1dc84428682d3d8c80b93c863de44c325bbd57fbbf54c4ad07bfa0f0879856c719014e   \n",
      "44036  04fcd1ff223405668b4226410cfab7a2b5d553480927da9ce1ebb8ac0a1dc84428682d3d8c80b93c863de44c325bbd57fbbf54c4ad07bfa0f0879856c719014e   \n",
      "44037  04fcd1ff223405668b4226410cfab7a2b5d553480927da9ce1ebb8ac0a1dc84428682d3d8c80b93c863de44c325bbd57fbbf54c4ad07bfa0f0879856c719014e   \n",
      "44038  04fcd1ff223405668b4226410cfab7a2b5d553480927da9ce1ebb8ac0a1dc84428682d3d8c80b93c863de44c325bbd57fbbf54c4ad07bfa0f0879856c719014e   \n",
      "44039  04fcd1ff223405668b4226410cfab7a2b5d553480927da9ce1ebb8ac0a1dc84428682d3d8c80b93c863de44c325bbd57fbbf54c4ad07bfa0f0879856c719014e   \n",
      "44040  04fcd1ff223405668b4226410cfab7a2b5d553480927da9ce1ebb8ac0a1dc84428682d3d8c80b93c863de44c325bbd57fbbf54c4ad07bfa0f0879856c719014e   \n",
      "44041  04fcd1ff223405668b4226410cfab7a2b5d553480927da9ce1ebb8ac0a1dc84428682d3d8c80b93c863de44c325bbd57fbbf54c4ad07bfa0f0879856c719014e   \n",
      "\n",
      "      ORD-PUB-CODE ORD ENTR DT  ORD REMT  \n",
      "44033  MJM         2017-12-21   15.0      \n",
      "44034  MJM         2017-12-21   15.0      \n",
      "44035  MJM         2017-12-21   15.0      \n",
      "44036  MJM         2017-12-21   15.0      \n",
      "44037  MJM         2017-12-21   30.0      \n",
      "44038  MJM         2017-12-21   30.0      \n",
      "44039  MJM         2017-12-21   30.0      \n",
      "44040  MJM         2017-12-21   30.0      \n",
      "44041  MJM         2018-03-12   18.0      \n",
      "\n",
      "\n",
      "#### #### #### #### #### #### #### \n",
      "#### summary of donations #### \n",
      "          don_total      don_freq   don_recency\n",
      "count  36473.000000  36473.000000  36473.000000\n",
      "mean   80.874920     2.851287      182.358402  \n",
      "std    162.135001    4.333151      124.613008  \n",
      "min    0.010000      1.000000      19.000000   \n",
      "25%    25.000000     1.000000      47.000000   \n",
      "50%    50.000000     1.000000      170.000000  \n",
      "75%    100.000000    2.000000      302.000000  \n",
      "max    10000.000000  283.000000    423.000000  \n",
      "\n",
      "\n",
      "#### an example of freq donors #### \n",
      "                                                                                                                                  EMAIL  \\\n",
      "94397  00517708de4d0fab02f3cf9bfa0116d1399cf0852ab2a02715d045dc13af03fefc8509d441947a87d90aa038f37100445699f29b39501533e9fd854f60835317   \n",
      "94398  00517708de4d0fab02f3cf9bfa0116d1399cf0852ab2a02715d045dc13af03fefc8509d441947a87d90aa038f37100445699f29b39501533e9fd854f60835317   \n",
      "94399  00517708de4d0fab02f3cf9bfa0116d1399cf0852ab2a02715d045dc13af03fefc8509d441947a87d90aa038f37100445699f29b39501533e9fd854f60835317   \n",
      "94400  00517708de4d0fab02f3cf9bfa0116d1399cf0852ab2a02715d045dc13af03fefc8509d441947a87d90aa038f37100445699f29b39501533e9fd854f60835317   \n",
      "94401  00517708de4d0fab02f3cf9bfa0116d1399cf0852ab2a02715d045dc13af03fefc8509d441947a87d90aa038f37100445699f29b39501533e9fd854f60835317   \n",
      "94402  00517708de4d0fab02f3cf9bfa0116d1399cf0852ab2a02715d045dc13af03fefc8509d441947a87d90aa038f37100445699f29b39501533e9fd854f60835317   \n",
      "94403  00517708de4d0fab02f3cf9bfa0116d1399cf0852ab2a02715d045dc13af03fefc8509d441947a87d90aa038f37100445699f29b39501533e9fd854f60835317   \n",
      "94404  00517708de4d0fab02f3cf9bfa0116d1399cf0852ab2a02715d045dc13af03fefc8509d441947a87d90aa038f37100445699f29b39501533e9fd854f60835317   \n",
      "94405  00517708de4d0fab02f3cf9bfa0116d1399cf0852ab2a02715d045dc13af03fefc8509d441947a87d90aa038f37100445699f29b39501533e9fd854f60835317   \n",
      "94406  00517708de4d0fab02f3cf9bfa0116d1399cf0852ab2a02715d045dc13af03fefc8509d441947a87d90aa038f37100445699f29b39501533e9fd854f60835317   \n",
      "94407  00517708de4d0fab02f3cf9bfa0116d1399cf0852ab2a02715d045dc13af03fefc8509d441947a87d90aa038f37100445699f29b39501533e9fd854f60835317   \n",
      "94408  00517708de4d0fab02f3cf9bfa0116d1399cf0852ab2a02715d045dc13af03fefc8509d441947a87d90aa038f37100445699f29b39501533e9fd854f60835317   \n",
      "94409  00517708de4d0fab02f3cf9bfa0116d1399cf0852ab2a02715d045dc13af03fefc8509d441947a87d90aa038f37100445699f29b39501533e9fd854f60835317   \n",
      "\n",
      "      ORD-PUB-CODE ORD ENTR DT  ORD REMT  \n",
      "94397  SDN         2017-10-20   15.0      \n",
      "94398  SDN         2017-11-20   15.0      \n",
      "94399  SDN         2017-12-20   15.0      \n",
      "94400  SDN         2018-01-21   15.0      \n",
      "94401  SDN         2018-02-21   15.0      \n",
      "94402  SDN         2018-03-20   15.0      \n",
      "94403  SDN         2018-04-20   15.0      \n",
      "94404  SDN         2018-05-21   15.0      \n",
      "94405  SDN         2018-06-21   15.0      \n",
      "94406  SDN         2018-07-21   15.0      \n",
      "94407  SDN         2018-08-21   15.0      \n",
      "94408  SDN         2018-09-21   15.0      \n",
      "94409  SDN         2018-10-21   15.0      \n",
      "#### an example of high-value donors #### \n",
      "                                                                                                                                  EMAIL  \\\n",
      "13520  04484d20fdefbee145787fa8d041b2b4055800f874cb6089741fc16b8e973883fce849b31c15b54e07bc556c06538c00de7e2100d6b9de0ffa09ff5100432ba1   \n",
      "\n",
      "      ORD-PUB-CODE ORD ENTR DT  ORD REMT  \n",
      "13520  DON         2018-01-21   1000.0    \n",
      "\n",
      "\n",
      " number of high-value donors:335\n",
      " 0.92% of donnars are high-value donors\n"
     ]
    }
   ],
   "source": [
    "print('#### #### #### #### #### #### #### ')\n",
    "print('#### summary of subscriptions #### ')\n",
    "print(combined.loc[combined['subs_freq'] > 0][['subs_total','subs_freq','subs_recency']].describe())\n",
    "print('\\n')\n",
    "print('{} subscribed more than twice'.format(combined.loc[combined['subs_freq'] >=2]['Email'].count()))\n",
    "print('{} subscribed more than three'.format(combined.loc[combined['subs_freq'] >=3]['Email'].count()))\n",
    "print('{} subscribed more than five times'.format(combined.loc[combined['subs_freq'] >=5]['Email'].count()))\n",
    "\n",
    "print('#### an example of freq subscribers #### ')\n",
    "print(subscription[subscription['EMAIL']==combined.loc[combined['subs_freq'] >=5]['Email'].iloc[0]])\n",
    "\n",
    "print('\\n')\n",
    "print('#### #### #### #### #### #### #### ')\n",
    "print('#### summary of donations #### ')\n",
    "print(combined.loc[combined['don_freq'] > 0][['don_total','don_freq','don_recency']].describe())\n",
    "print('\\n')\n",
    "print('#### an example of freq donors #### ')\n",
    "print(donation[donation['EMAIL']==combined.loc[combined['don_freq'] >=5]['Email'].iloc[0]])\n",
    "\n",
    "print('#### an example of high-value donors #### ')\n",
    "print(donation[donation['EMAIL']==combined.loc[combined['don_total'] >=500]['Email'].iloc[0]])\n",
    "\n",
    "print('\\n')\n",
    "print(' number of high-value donors:{}'.format(combined.loc[combined['don_total'] > 500]['Email'].count()))\n",
    "print(' {}% of donnars are high-value donors'.format(round(100*combined.loc[combined['don_total'] > 500]['Email'].count()/combined.loc[combined['don_total'] > 0]['Email'].count(),2)))"
   ]
  },
  {
   "cell_type": "markdown",
   "metadata": {},
   "source": [
    "### summerize how often subscribers donate and how often donors are subscribers"
   ]
  },
  {
   "cell_type": "code",
   "execution_count": 3,
   "metadata": {},
   "outputs": [
    {
     "name": "stdout",
     "output_type": "stream",
     "text": [
      "confusion matrix of subscription and donation\n",
      "\n",
      "\n",
      "donation      False   True    All\n",
      "subscription                     \n",
      "False         0      27326  27326\n",
      "True          42030  9147   51177\n",
      "All           42030  36473  78503\n",
      "\n",
      "\n",
      "18.0% of subscribers also donated\n",
      "25.0% of donors are subscribers\n"
     ]
    }
   ],
   "source": [
    "combined_cf = pd.crosstab(combined['subs_freq'].astype('bool'), \n",
    "                          combined['don_freq'].astype('bool'), \n",
    "                          rownames=['subscription'], \n",
    "                          colnames=['donation'], margins=True)\n",
    "print('confusion matrix of subscription and donation')\n",
    "print('\\n')\n",
    "print(combined_cf)\n",
    "print('\\n')\n",
    "print('{}% of subscribers also donated'.format(round(100*combined_cf.iloc[1,1]/combined_cf.iloc[1,2])))\n",
    "print('{}% of donors are subscribers'.format(round(100*combined_cf.iloc[1,1]/combined_cf.iloc[2,1])))\n"
   ]
  },
  {
   "cell_type": "markdown",
   "metadata": {},
   "source": [
    "## Combine subscription & donnation data with newsletter click data\n",
    "- load processed newsletter click data, subscription data and donation data\n",
    "- for newsletter click data, group by email and count the unique urls were clicked and the unique topics were clicked"
   ]
  },
  {
   "cell_type": "code",
   "execution_count": 4,
   "metadata": {},
   "outputs": [],
   "source": [
    "# created by https://github.com/datakind/mj_user_engagement/blob/tingting/newsletter_clicks_parser/mojo_newsletter_clicks_preprocess.py\n",
    "click_data = pd.read_pickle('/home/centos/mojo/newsletter_processed_data.pkl')\n",
    "sub_don_combined = pd.read_pickle('subscription_donation_processed_data.pkl')\n",
    "\n",
    "nclicks_by_users = click_data.groupby('Email').agg({'Url': pd.Series.nunique,'topic':pd.Series.nunique})\n",
    "nclicks_by_users = nclicks_by_users.reset_index()"
   ]
  },
  {
   "cell_type": "markdown",
   "metadata": {},
   "source": [
    "- use outer join to combine processed newsletter click data, subscription data and donation data based on emails"
   ]
  },
  {
   "cell_type": "code",
   "execution_count": 7,
   "metadata": {},
   "outputs": [],
   "source": [
    "sub_don_click_combined = combine_dat_sets(sub_don_combined, nclicks_by_users, 'Email','Email')\n",
    "sub_don_click_combined = sub_don_click_combined.set_index('Email')"
   ]
  },
  {
   "cell_type": "code",
   "execution_count": 8,
   "metadata": {},
   "outputs": [
    {
     "data": {
      "text/html": [
       "<div>\n",
       "<style scoped>\n",
       "    .dataframe tbody tr th:only-of-type {\n",
       "        vertical-align: middle;\n",
       "    }\n",
       "\n",
       "    .dataframe tbody tr th {\n",
       "        vertical-align: top;\n",
       "    }\n",
       "\n",
       "    .dataframe thead th {\n",
       "        text-align: right;\n",
       "    }\n",
       "</style>\n",
       "<table border=\"1\" class=\"dataframe\">\n",
       "  <thead>\n",
       "    <tr style=\"text-align: right;\">\n",
       "      <th></th>\n",
       "      <th>subs_total</th>\n",
       "      <th>subs_freq</th>\n",
       "      <th>subs_recency</th>\n",
       "      <th>don_total</th>\n",
       "      <th>don_freq</th>\n",
       "      <th>don_recency</th>\n",
       "      <th>Url</th>\n",
       "      <th>topic</th>\n",
       "    </tr>\n",
       "    <tr>\n",
       "      <th>Email</th>\n",
       "      <th></th>\n",
       "      <th></th>\n",
       "      <th></th>\n",
       "      <th></th>\n",
       "      <th></th>\n",
       "      <th></th>\n",
       "      <th></th>\n",
       "      <th></th>\n",
       "    </tr>\n",
       "  </thead>\n",
       "  <tbody>\n",
       "    <tr>\n",
       "      <th>00005cfbddbc503ae8837036a9b96cec672997922271a736c2253c88108a9c937c65648e3e7232ba8bbc4cab14fef463e94a1acb2287de698d1790af58c4d8d3</th>\n",
       "      <td>22.0</td>\n",
       "      <td>1.0</td>\n",
       "      <td>248.0</td>\n",
       "      <td>0.0</td>\n",
       "      <td>0.0</td>\n",
       "      <td>0.0</td>\n",
       "      <td>2.0</td>\n",
       "      <td>2.0</td>\n",
       "    </tr>\n",
       "    <tr>\n",
       "      <th>0000a8d23211fec8ed10561725547e244648f4dfd391c7d7262d324eac5a15c805d18b21c03df78da876048a1a7d9954c62535a678296c16b75432944d51e167</th>\n",
       "      <td>36.0</td>\n",
       "      <td>2.0</td>\n",
       "      <td>26.0</td>\n",
       "      <td>0.0</td>\n",
       "      <td>0.0</td>\n",
       "      <td>0.0</td>\n",
       "      <td>0.0</td>\n",
       "      <td>0.0</td>\n",
       "    </tr>\n",
       "    <tr>\n",
       "      <th>00020b15c1f68335def0ad9595c3c4924988436ef3c6a07f4777cd31e9cd9fc3f0db62e389c469210098fee366e1aee1e7533828ec5c43d3bba3ffabd5a2eb47</th>\n",
       "      <td>10.0</td>\n",
       "      <td>1.0</td>\n",
       "      <td>124.0</td>\n",
       "      <td>0.0</td>\n",
       "      <td>0.0</td>\n",
       "      <td>0.0</td>\n",
       "      <td>0.0</td>\n",
       "      <td>0.0</td>\n",
       "    </tr>\n",
       "  </tbody>\n",
       "</table>\n",
       "</div>"
      ],
      "text/plain": [
       "                                                                                                                                  subs_total  \\\n",
       "Email                                                                                                                                          \n",
       "00005cfbddbc503ae8837036a9b96cec672997922271a736c2253c88108a9c937c65648e3e7232ba8bbc4cab14fef463e94a1acb2287de698d1790af58c4d8d3  22.0         \n",
       "0000a8d23211fec8ed10561725547e244648f4dfd391c7d7262d324eac5a15c805d18b21c03df78da876048a1a7d9954c62535a678296c16b75432944d51e167  36.0         \n",
       "00020b15c1f68335def0ad9595c3c4924988436ef3c6a07f4777cd31e9cd9fc3f0db62e389c469210098fee366e1aee1e7533828ec5c43d3bba3ffabd5a2eb47  10.0         \n",
       "\n",
       "                                                                                                                                  subs_freq  \\\n",
       "Email                                                                                                                                         \n",
       "00005cfbddbc503ae8837036a9b96cec672997922271a736c2253c88108a9c937c65648e3e7232ba8bbc4cab14fef463e94a1acb2287de698d1790af58c4d8d3  1.0         \n",
       "0000a8d23211fec8ed10561725547e244648f4dfd391c7d7262d324eac5a15c805d18b21c03df78da876048a1a7d9954c62535a678296c16b75432944d51e167  2.0         \n",
       "00020b15c1f68335def0ad9595c3c4924988436ef3c6a07f4777cd31e9cd9fc3f0db62e389c469210098fee366e1aee1e7533828ec5c43d3bba3ffabd5a2eb47  1.0         \n",
       "\n",
       "                                                                                                                                  subs_recency  \\\n",
       "Email                                                                                                                                            \n",
       "00005cfbddbc503ae8837036a9b96cec672997922271a736c2253c88108a9c937c65648e3e7232ba8bbc4cab14fef463e94a1acb2287de698d1790af58c4d8d3  248.0          \n",
       "0000a8d23211fec8ed10561725547e244648f4dfd391c7d7262d324eac5a15c805d18b21c03df78da876048a1a7d9954c62535a678296c16b75432944d51e167  26.0           \n",
       "00020b15c1f68335def0ad9595c3c4924988436ef3c6a07f4777cd31e9cd9fc3f0db62e389c469210098fee366e1aee1e7533828ec5c43d3bba3ffabd5a2eb47  124.0          \n",
       "\n",
       "                                                                                                                                  don_total  \\\n",
       "Email                                                                                                                                         \n",
       "00005cfbddbc503ae8837036a9b96cec672997922271a736c2253c88108a9c937c65648e3e7232ba8bbc4cab14fef463e94a1acb2287de698d1790af58c4d8d3  0.0         \n",
       "0000a8d23211fec8ed10561725547e244648f4dfd391c7d7262d324eac5a15c805d18b21c03df78da876048a1a7d9954c62535a678296c16b75432944d51e167  0.0         \n",
       "00020b15c1f68335def0ad9595c3c4924988436ef3c6a07f4777cd31e9cd9fc3f0db62e389c469210098fee366e1aee1e7533828ec5c43d3bba3ffabd5a2eb47  0.0         \n",
       "\n",
       "                                                                                                                                  don_freq  \\\n",
       "Email                                                                                                                                        \n",
       "00005cfbddbc503ae8837036a9b96cec672997922271a736c2253c88108a9c937c65648e3e7232ba8bbc4cab14fef463e94a1acb2287de698d1790af58c4d8d3  0.0        \n",
       "0000a8d23211fec8ed10561725547e244648f4dfd391c7d7262d324eac5a15c805d18b21c03df78da876048a1a7d9954c62535a678296c16b75432944d51e167  0.0        \n",
       "00020b15c1f68335def0ad9595c3c4924988436ef3c6a07f4777cd31e9cd9fc3f0db62e389c469210098fee366e1aee1e7533828ec5c43d3bba3ffabd5a2eb47  0.0        \n",
       "\n",
       "                                                                                                                                  don_recency  \\\n",
       "Email                                                                                                                                           \n",
       "00005cfbddbc503ae8837036a9b96cec672997922271a736c2253c88108a9c937c65648e3e7232ba8bbc4cab14fef463e94a1acb2287de698d1790af58c4d8d3  0.0           \n",
       "0000a8d23211fec8ed10561725547e244648f4dfd391c7d7262d324eac5a15c805d18b21c03df78da876048a1a7d9954c62535a678296c16b75432944d51e167  0.0           \n",
       "00020b15c1f68335def0ad9595c3c4924988436ef3c6a07f4777cd31e9cd9fc3f0db62e389c469210098fee366e1aee1e7533828ec5c43d3bba3ffabd5a2eb47  0.0           \n",
       "\n",
       "                                                                                                                                  Url  \\\n",
       "Email                                                                                                                                   \n",
       "00005cfbddbc503ae8837036a9b96cec672997922271a736c2253c88108a9c937c65648e3e7232ba8bbc4cab14fef463e94a1acb2287de698d1790af58c4d8d3  2.0   \n",
       "0000a8d23211fec8ed10561725547e244648f4dfd391c7d7262d324eac5a15c805d18b21c03df78da876048a1a7d9954c62535a678296c16b75432944d51e167  0.0   \n",
       "00020b15c1f68335def0ad9595c3c4924988436ef3c6a07f4777cd31e9cd9fc3f0db62e389c469210098fee366e1aee1e7533828ec5c43d3bba3ffabd5a2eb47  0.0   \n",
       "\n",
       "                                                                                                                                  topic  \n",
       "Email                                                                                                                                    \n",
       "00005cfbddbc503ae8837036a9b96cec672997922271a736c2253c88108a9c937c65648e3e7232ba8bbc4cab14fef463e94a1acb2287de698d1790af58c4d8d3  2.0    \n",
       "0000a8d23211fec8ed10561725547e244648f4dfd391c7d7262d324eac5a15c805d18b21c03df78da876048a1a7d9954c62535a678296c16b75432944d51e167  0.0    \n",
       "00020b15c1f68335def0ad9595c3c4924988436ef3c6a07f4777cd31e9cd9fc3f0db62e389c469210098fee366e1aee1e7533828ec5c43d3bba3ffabd5a2eb47  0.0    "
      ]
     },
     "execution_count": 8,
     "metadata": {},
     "output_type": "execute_result"
    }
   ],
   "source": [
    "sub_don_click_combined.head(n=3)"
   ]
  },
  {
   "cell_type": "markdown",
   "metadata": {},
   "source": [
    "## summerize subscribers' click activities\n"
   ]
  },
  {
   "cell_type": "code",
   "execution_count": 9,
   "metadata": {},
   "outputs": [
    {
     "name": "stdout",
     "output_type": "stream",
     "text": [
      "4194 out of 51177 subscribers clicked newsletters in Oct\n",
      "8.2% of subscribers clicked newsletters\n",
      "summary of subscribers click activities in Oct\n"
     ]
    },
    {
     "data": {
      "text/html": [
       "<div>\n",
       "<style scoped>\n",
       "    .dataframe tbody tr th:only-of-type {\n",
       "        vertical-align: middle;\n",
       "    }\n",
       "\n",
       "    .dataframe tbody tr th {\n",
       "        vertical-align: top;\n",
       "    }\n",
       "\n",
       "    .dataframe thead th {\n",
       "        text-align: right;\n",
       "    }\n",
       "</style>\n",
       "<table border=\"1\" class=\"dataframe\">\n",
       "  <thead>\n",
       "    <tr style=\"text-align: right;\">\n",
       "      <th></th>\n",
       "      <th>Url</th>\n",
       "      <th>topic</th>\n",
       "    </tr>\n",
       "  </thead>\n",
       "  <tbody>\n",
       "    <tr>\n",
       "      <th>count</th>\n",
       "      <td>4194.000000</td>\n",
       "      <td>4194.000000</td>\n",
       "    </tr>\n",
       "    <tr>\n",
       "      <th>mean</th>\n",
       "      <td>5.125894</td>\n",
       "      <td>1.930138</td>\n",
       "    </tr>\n",
       "    <tr>\n",
       "      <th>std</th>\n",
       "      <td>8.365710</td>\n",
       "      <td>1.117957</td>\n",
       "    </tr>\n",
       "    <tr>\n",
       "      <th>min</th>\n",
       "      <td>1.000000</td>\n",
       "      <td>1.000000</td>\n",
       "    </tr>\n",
       "    <tr>\n",
       "      <th>25%</th>\n",
       "      <td>1.000000</td>\n",
       "      <td>1.000000</td>\n",
       "    </tr>\n",
       "    <tr>\n",
       "      <th>50%</th>\n",
       "      <td>3.000000</td>\n",
       "      <td>2.000000</td>\n",
       "    </tr>\n",
       "    <tr>\n",
       "      <th>75%</th>\n",
       "      <td>6.000000</td>\n",
       "      <td>3.000000</td>\n",
       "    </tr>\n",
       "    <tr>\n",
       "      <th>max</th>\n",
       "      <td>242.000000</td>\n",
       "      <td>8.000000</td>\n",
       "    </tr>\n",
       "  </tbody>\n",
       "</table>\n",
       "</div>"
      ],
      "text/plain": [
       "               Url        topic\n",
       "count  4194.000000  4194.000000\n",
       "mean   5.125894     1.930138   \n",
       "std    8.365710     1.117957   \n",
       "min    1.000000     1.000000   \n",
       "25%    1.000000     1.000000   \n",
       "50%    3.000000     2.000000   \n",
       "75%    6.000000     3.000000   \n",
       "max    242.000000   8.000000   "
      ]
     },
     "execution_count": 9,
     "metadata": {},
     "output_type": "execute_result"
    }
   ],
   "source": [
    "sub = sub_don_click_combined[sub_don_click_combined['subs_freq'] >0]\n",
    "\n",
    "print('{} out of {} subscribers clicked newsletters in Oct'.format(sum(sub['Url']> 0),\n",
    "                                                                sub.shape[0]))\n",
    "print('{}% of subscribers clicked newsletters'.format(round(pd.Series.mean(sub['Url']> 0)*100,1)))\n",
    "print('summary of subscribers click activities in Oct')\n",
    "sub[sub['Url']>0][['Url','topic']].describe()"
   ]
  },
  {
   "cell_type": "markdown",
   "metadata": {},
   "source": [
    "## summerize donars' click activities"
   ]
  },
  {
   "cell_type": "code",
   "execution_count": 10,
   "metadata": {},
   "outputs": [
    {
     "name": "stdout",
     "output_type": "stream",
     "text": [
      "5410 out of 36473 donars clicked newsletters in Oct\n",
      "14.8% of doners clicked newsletters\n",
      "summary of doners click activities in Oct\n"
     ]
    },
    {
     "data": {
      "text/html": [
       "<div>\n",
       "<style scoped>\n",
       "    .dataframe tbody tr th:only-of-type {\n",
       "        vertical-align: middle;\n",
       "    }\n",
       "\n",
       "    .dataframe tbody tr th {\n",
       "        vertical-align: top;\n",
       "    }\n",
       "\n",
       "    .dataframe thead th {\n",
       "        text-align: right;\n",
       "    }\n",
       "</style>\n",
       "<table border=\"1\" class=\"dataframe\">\n",
       "  <thead>\n",
       "    <tr style=\"text-align: right;\">\n",
       "      <th></th>\n",
       "      <th>Url</th>\n",
       "      <th>topic</th>\n",
       "    </tr>\n",
       "  </thead>\n",
       "  <tbody>\n",
       "    <tr>\n",
       "      <th>count</th>\n",
       "      <td>5410.000000</td>\n",
       "      <td>5410.000000</td>\n",
       "    </tr>\n",
       "    <tr>\n",
       "      <th>mean</th>\n",
       "      <td>6.458965</td>\n",
       "      <td>2.136969</td>\n",
       "    </tr>\n",
       "    <tr>\n",
       "      <th>std</th>\n",
       "      <td>9.973003</td>\n",
       "      <td>1.213371</td>\n",
       "    </tr>\n",
       "    <tr>\n",
       "      <th>min</th>\n",
       "      <td>1.000000</td>\n",
       "      <td>1.000000</td>\n",
       "    </tr>\n",
       "    <tr>\n",
       "      <th>25%</th>\n",
       "      <td>2.000000</td>\n",
       "      <td>1.000000</td>\n",
       "    </tr>\n",
       "    <tr>\n",
       "      <th>50%</th>\n",
       "      <td>3.000000</td>\n",
       "      <td>2.000000</td>\n",
       "    </tr>\n",
       "    <tr>\n",
       "      <th>75%</th>\n",
       "      <td>8.000000</td>\n",
       "      <td>3.000000</td>\n",
       "    </tr>\n",
       "    <tr>\n",
       "      <th>max</th>\n",
       "      <td>238.000000</td>\n",
       "      <td>8.000000</td>\n",
       "    </tr>\n",
       "  </tbody>\n",
       "</table>\n",
       "</div>"
      ],
      "text/plain": [
       "               Url        topic\n",
       "count  5410.000000  5410.000000\n",
       "mean   6.458965     2.136969   \n",
       "std    9.973003     1.213371   \n",
       "min    1.000000     1.000000   \n",
       "25%    2.000000     1.000000   \n",
       "50%    3.000000     2.000000   \n",
       "75%    8.000000     3.000000   \n",
       "max    238.000000   8.000000   "
      ]
     },
     "execution_count": 10,
     "metadata": {},
     "output_type": "execute_result"
    }
   ],
   "source": [
    "don = sub_don_click_combined[sub_don_click_combined['don_freq'] >0]\n",
    "print('{} out of {} donars clicked newsletters in Oct'.format(sum(don['Url']> 0),\n",
    "                                                           don.shape[0]))\n",
    "print('{}% of doners clicked newsletters'.format(round(pd.Series.mean(don['Url']> 0)*100,1)))\n",
    "print('summary of doners click activities in Oct')\n",
    "don[don['Url']>0][['Url','topic']].describe()"
   ]
  },
  {
   "cell_type": "markdown",
   "metadata": {},
   "source": [
    "## summerize how often the emails who clicked the newsletters are donar or subscribers"
   ]
  },
  {
   "cell_type": "code",
   "execution_count": 11,
   "metadata": {},
   "outputs": [
    {
     "name": "stdout",
     "output_type": "stream",
     "text": [
      "7.6% of emails who clicked are subscribers \n",
      "9.8% of emails who clicked are donars \n"
     ]
    }
   ],
   "source": [
    "print('{}% of emails who clicked are subscribers '.format(round(pd.Series.mean(sub_don_click_combined[sub_don_click_combined['Url']>0]['subs_freq'] >0)*100,1)))\n",
    "print('{}% of emails who clicked are donars '.format(round(pd.Series.mean(sub_don_click_combined[sub_don_click_combined['Url']>0]['don_freq'] >0)*100,1)))"
   ]
  }
 ],
 "metadata": {
  "kernelspec": {
   "display_name": "Python 3",
   "language": "python",
   "name": "python3"
  },
  "language_info": {
   "codemirror_mode": {
    "name": "ipython",
    "version": 3
   },
   "file_extension": ".py",
   "mimetype": "text/x-python",
   "name": "python",
   "nbconvert_exporter": "python",
   "pygments_lexer": "ipython3",
   "version": "3.4.5"
  }
 },
 "nbformat": 4,
 "nbformat_minor": 2
}
